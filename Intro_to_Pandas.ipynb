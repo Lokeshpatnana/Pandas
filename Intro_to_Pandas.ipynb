{
  "nbformat": 4,
  "nbformat_minor": 0,
  "metadata": {
    "colab": {
      "provenance": [],
      "toc_visible": true,
      "include_colab_link": true
    },
    "kernelspec": {
      "name": "python3",
      "display_name": "Python 3"
    }
  },
  "cells": [
    {
      "cell_type": "markdown",
      "metadata": {
        "id": "view-in-github",
        "colab_type": "text"
      },
      "source": [
        "<a href=\"https://colab.research.google.com/github/Lokeshpatnana/Pandas/blob/main/Intro_to_Pandas.ipynb\" target=\"_parent\"><img src=\"https://colab.research.google.com/assets/colab-badge.svg\" alt=\"Open In Colab\"/></a>"
      ]
    },
    {
      "cell_type": "code",
      "metadata": {
        "id": "d82QhOMqFOMI"
      },
      "source": [
        "import pandas as pd"
      ],
      "execution_count": null,
      "outputs": []
    },
    {
      "cell_type": "markdown",
      "metadata": {
        "id": "5JUifSBjeMsy"
      },
      "source": [
        "# Pandas - Brief Intro\n",
        "\n",
        "1. Data Analysis library which makes it easy to read and work with different types of data\n",
        " * Load large amounts of data into python\n",
        " * Work with different file formats (csv, sql, excel, etc.)\n",
        " * Work with time-series data (stock prices, sales data, etc.)\n",
        "\n",
        "2. Cleaning the Data and Handling Missing Values\n",
        "3. Built on top of NumPy and has great performance\n",
        "\n",
        "\n",
        "> **Essential for everyone working with data (Data Science, ML, Analytics, etc.)**\n",
        "\n"
      ]
    },
    {
      "cell_type": "markdown",
      "metadata": {
        "id": "icLP1CG8dfh9"
      },
      "source": [
        "# Walkthrough of Datasets"
      ]
    },
    {
      "cell_type": "markdown",
      "metadata": {
        "id": "P3LPmzhZdrR1"
      },
      "source": [
        "## Stack Overflow Dataset"
      ]
    },
    {
      "cell_type": "markdown",
      "metadata": {
        "id": "ggy7u_x0fNNr"
      },
      "source": [
        "With nearly 65,000 responses fielded from over 180 countries and dependent territories, the 2020 Annual Developer Survey by Stack Overflow examines all aspects of the developer experience from career satisfaction and job search to education and opinions on open source software.\n",
        "\n",
        "**Source**: https://insights.stackoverflow.com/survey"
      ]
    },
    {
      "cell_type": "code",
      "metadata": {
        "id": "NwGmug24dyT3"
      },
      "source": [
        "!wget https://nkb-backend-otg-media-static.s3.ap-south-1.amazonaws.com/otg_prod/media/Tech_4.0/AI_ML/Datasets/survey_results_public.csv"
      ],
      "execution_count": null,
      "outputs": []
    },
    {
      "cell_type": "markdown",
      "metadata": {
        "id": "A8Fc7qsedwTB"
      },
      "source": [
        "## Covid Dataset"
      ]
    },
    {
      "cell_type": "markdown",
      "metadata": {
        "id": "HsieTUyrf5ar"
      },
      "source": [
        "This dataset provides day-wise metric of COVID-19 in Italy for around 200 days.\n",
        "\n",
        "**Source**: https://hub.jovian.ml/wp-content/uploads/2020/09/italy-covid-daywise.csv"
      ]
    },
    {
      "cell_type": "code",
      "metadata": {
        "id": "ZEWNmCe0fGSy"
      },
      "source": [
        "!wget https://nkb-backend-otg-media-static.s3.ap-south-1.amazonaws.com/otg_prod/media/Tech_4.0/AI_ML/Datasets/italy-covid-daywise.csv"
      ],
      "execution_count": null,
      "outputs": []
    },
    {
      "cell_type": "markdown",
      "metadata": {
        "id": "aseq3VasfCjm"
      },
      "source": [
        "## Film Dataset\n"
      ]
    },
    {
      "cell_type": "markdown",
      "metadata": {
        "id": "MtG0O7FGgVOv"
      },
      "source": [
        "About 1000 movies with properties such as length, main actor and actress, director and popularity.\n",
        "\n",
        "**Source**: https://perso.telecom-paristech.fr/eagan/class/igr204/datasets"
      ]
    },
    {
      "cell_type": "code",
      "metadata": {
        "id": "9pgBPLZJfG62"
      },
      "source": [
        "!wget https://nkb-backend-otg-media-static.s3.ap-south-1.amazonaws.com/otg_prod/media/Tech_4.0/AI_ML/Datasets/film.csv"
      ],
      "execution_count": null,
      "outputs": []
    },
    {
      "cell_type": "markdown",
      "metadata": {
        "id": "SSYpReI7fH1h"
      },
      "source": [
        "## eCommerce Dataset\n"
      ]
    },
    {
      "cell_type": "markdown",
      "metadata": {
        "id": "xp0mWGyxlco1"
      },
      "source": [
        "This dataset provides shopping data related to various products and orders over the course of a year.\n",
        "\n",
        "**Source**: https://github.com/KeithGalli/Pandas-Data-Science-Tasks"
      ]
    },
    {
      "cell_type": "code",
      "metadata": {
        "id": "2ynPh7yvfiYw"
      },
      "source": [
        "!wget https://nkb-backend-otg-media-static.s3.ap-south-1.amazonaws.com/otg_prod/media/Tech_4.0/AI_ML/Datasets/shopping_data_v2.csv"
      ],
      "execution_count": null,
      "outputs": []
    },
    {
      "cell_type": "markdown",
      "metadata": {
        "id": "kroTtEc5LaSK"
      },
      "source": [
        "# Reading & Writing files"
      ]
    },
    {
      "cell_type": "markdown",
      "metadata": {
        "id": "cv9jWDiWXkjC"
      },
      "source": [
        "Reading/Loading the data from a csv file"
      ]
    },
    {
      "cell_type": "code",
      "metadata": {
        "id": "I8etmCzJjtbI"
      },
      "source": [
        "shopping_df = pd.read_csv('shopping_data_v2.csv')"
      ],
      "execution_count": null,
      "outputs": []
    },
    {
      "cell_type": "markdown",
      "metadata": {
        "id": "83imttucXubQ"
      },
      "source": [
        "Writing the data to a csv file"
      ]
    },
    {
      "cell_type": "code",
      "metadata": {
        "id": "LqWKFEn9XzBE"
      },
      "source": [
        "shopping_df.to_csv('shopping_data_copy.csv')"
      ],
      "execution_count": null,
      "outputs": []
    },
    {
      "cell_type": "markdown",
      "metadata": {
        "id": "mkhGzdE3gqIY"
      },
      "source": [
        "# Dataframe\n",
        "**A dataframe is like a dictionary of lists, but with much more functionality**\n",
        "\n",
        "*   A table of data (Rows and Columns)\n",
        "*   2 Dimensional Data Structure\n"
      ]
    },
    {
      "cell_type": "markdown",
      "metadata": {
        "id": "uZ6vFCtPhNl2"
      },
      "source": [
        "## Properties of a Dataframe"
      ]
    },
    {
      "cell_type": "markdown",
      "metadata": {
        "id": "_g8YGz_KFltM"
      },
      "source": [
        "**Shape of a dataframe**\n",
        "\n"
      ]
    },
    {
      "cell_type": "code",
      "metadata": {
        "id": "c1mgJ1g9FSwZ"
      },
      "source": [
        "shopping_df.shape"
      ],
      "execution_count": null,
      "outputs": []
    },
    {
      "cell_type": "markdown",
      "metadata": {
        "id": "IJ8tWQ3g-jaI"
      },
      "source": [
        "**`df.columns` returns the column labels of a DataFrame**\n"
      ]
    },
    {
      "cell_type": "code",
      "metadata": {
        "id": "gFtZkUUDG5hO"
      },
      "source": [
        "shopping_df.columns"
      ],
      "execution_count": null,
      "outputs": []
    },
    {
      "cell_type": "markdown",
      "metadata": {
        "id": "h4VleS98Hdvx"
      },
      "source": [
        "**`df.dtypes` returns the datatypes of each column in a DataFrame**\n"
      ]
    },
    {
      "cell_type": "code",
      "metadata": {
        "id": "bXfc5O3YHF0O"
      },
      "source": [
        "shopping_df.dtypes"
      ],
      "execution_count": null,
      "outputs": []
    },
    {
      "cell_type": "markdown",
      "metadata": {
        "id": "DTt3-_gYkJoD"
      },
      "source": [
        "### df.head\n",
        "* `df.head(n=5)`\n",
        "  *   Returns the first `n` rows.\n",
        "  * For negative values of `n`, this function returns all the rows except for the last `n` rows.\n"
      ]
    },
    {
      "cell_type": "code",
      "metadata": {
        "id": "pRYCsZc_kJoD"
      },
      "source": [
        "shopping_df.head()"
      ],
      "execution_count": null,
      "outputs": []
    },
    {
      "cell_type": "code",
      "metadata": {
        "id": "uGz_eJbMkJoE"
      },
      "source": [
        "shopping_df.head(10)"
      ],
      "execution_count": null,
      "outputs": []
    },
    {
      "cell_type": "code",
      "metadata": {
        "id": "MTgwcgT4kJoE"
      },
      "source": [
        "shopping_df.head(-1000)"
      ],
      "execution_count": null,
      "outputs": []
    },
    {
      "cell_type": "markdown",
      "metadata": {
        "id": "dfWw4KbCkJoF"
      },
      "source": [
        "### df.tail\n",
        "* `df.tail(n=5)`\n",
        "  *   Returns the last `n` rows.\n",
        "  * For negative values of `n`, this function returns all rows except for the first `n` rows."
      ]
    },
    {
      "cell_type": "code",
      "metadata": {
        "id": "fqXe_37ZkJoF"
      },
      "source": [
        "shopping_df.tail()"
      ],
      "execution_count": null,
      "outputs": []
    },
    {
      "cell_type": "code",
      "metadata": {
        "id": "NWHZv6tKkJoF"
      },
      "source": [
        "shopping_df.tail(15)"
      ],
      "execution_count": null,
      "outputs": []
    },
    {
      "cell_type": "code",
      "metadata": {
        "id": "bVhUcSBBkJoG"
      },
      "source": [
        "shopping_df.tail(-100)"
      ],
      "execution_count": null,
      "outputs": []
    },
    {
      "cell_type": "markdown",
      "metadata": {
        "id": "0Qk02AV1kJoG"
      },
      "source": [
        "### df.describe\n",
        "* `df.describe(include=None, exclude=None)`\n",
        "  * Generates descriptive statistics.\n",
        "  * Analyzes both numeric and object series as well as mixed data types.\n",
        "  * `include`: A list of data types to include in the result.\n",
        "  * `exclude`:  A list of data types to omit from the result."
      ]
    },
    {
      "cell_type": "code",
      "metadata": {
        "id": "yM6oOrYmkJoG"
      },
      "source": [
        "shopping_df.describe()"
      ],
      "execution_count": null,
      "outputs": []
    },
    {
      "cell_type": "code",
      "metadata": {
        "id": "avyCk0nNkJoG"
      },
      "source": [
        "shopping_df.describe(include=[object])"
      ],
      "execution_count": null,
      "outputs": []
    },
    {
      "cell_type": "code",
      "metadata": {
        "id": "5ET6uEnVkJoH"
      },
      "source": [
        "shopping_df.describe(include=\"all\")"
      ],
      "execution_count": null,
      "outputs": []
    },
    {
      "cell_type": "code",
      "metadata": {
        "id": "v950PgDikJoH"
      },
      "source": [
        "shopping_df.describe(exclude=[object])"
      ],
      "execution_count": null,
      "outputs": []
    },
    {
      "cell_type": "markdown",
      "metadata": {
        "id": "XP6JGf-7kJoH"
      },
      "source": [
        "### df.info\n",
        "* `df.info()`\n",
        "  * Print a concise summary of a DataFrame including the dtypes of the columns, memory usage, etc."
      ]
    },
    {
      "cell_type": "code",
      "metadata": {
        "id": "fikrrJ7BkJoH"
      },
      "source": [
        "shopping_df.info()"
      ],
      "execution_count": null,
      "outputs": []
    },
    {
      "cell_type": "markdown",
      "metadata": {
        "id": "U_T14PSZhbVN"
      },
      "source": [
        "## Comparision with Dictionary of Lists"
      ]
    },
    {
      "cell_type": "code",
      "metadata": {
        "id": "PCVSDNqAkPZW"
      },
      "source": [
        "people = {\n",
        "    \"first\": [\"Kristen\", 'Maxine', 'John'],\n",
        "    \"last\": [\"Carol\", 'Willians', 'Smith'],\n",
        "    \"email\": [\"KristenC@gmail.com\", 'Maxine.Williams@email.com', 'JohnSmith@email.com']\n",
        "}"
      ],
      "execution_count": null,
      "outputs": []
    },
    {
      "cell_type": "markdown",
      "metadata": {
        "id": "EvgFEa-K_45v"
      },
      "source": [
        "Creating DataFrame from a dictionary of lists"
      ]
    },
    {
      "cell_type": "code",
      "metadata": {
        "id": "gPZfwZWqkPgY"
      },
      "source": [
        "df = pd.DataFrame(people)\n",
        "print(df)"
      ],
      "execution_count": null,
      "outputs": []
    },
    {
      "cell_type": "code",
      "metadata": {
        "id": "nZXbxrqKBZdI"
      },
      "source": [
        "people[\"first\"]"
      ],
      "execution_count": null,
      "outputs": []
    },
    {
      "cell_type": "code",
      "metadata": {
        "id": "_TVLllW9BdNG"
      },
      "source": [
        "df[\"last\"]"
      ],
      "execution_count": null,
      "outputs": []
    },
    {
      "cell_type": "code",
      "metadata": {
        "id": "Kjmh5es1Bh1Q"
      },
      "source": [
        "type(df[\"first\"])"
      ],
      "execution_count": null,
      "outputs": []
    },
    {
      "cell_type": "markdown",
      "metadata": {
        "id": "4H4mO18fgt20"
      },
      "source": [
        "# Series\n",
        "**A Series is like a list of data, but with much more functionality**\n"
      ]
    },
    {
      "cell_type": "markdown",
      "metadata": {
        "id": "SilqWR5t_-il"
      },
      "source": [
        "Creating Series from a List of Data"
      ]
    },
    {
      "cell_type": "code",
      "metadata": {
        "id": "UV7fClgEkZIN"
      },
      "source": [
        "pd.Series([1, 2, 3, 4, \"asdf\"])"
      ],
      "execution_count": null,
      "outputs": []
    },
    {
      "cell_type": "code",
      "metadata": {
        "id": "MaAAJfUzkmB9"
      },
      "source": [
        "type(shopping_df['Product'])"
      ],
      "execution_count": null,
      "outputs": []
    },
    {
      "cell_type": "markdown",
      "metadata": {
        "id": "Qpjlw0BVgw_d"
      },
      "source": [
        "# Accessing Data"
      ]
    },
    {
      "cell_type": "markdown",
      "metadata": {
        "id": "8VQb5qa0g3_4"
      },
      "source": [
        "## Indexing"
      ]
    },
    {
      "cell_type": "markdown",
      "metadata": {
        "id": "EASL2LOCMREQ"
      },
      "source": [
        "We can retrieve a specific value from a series using the indexing notation **`[]`**\n"
      ]
    },
    {
      "cell_type": "code",
      "metadata": {
        "id": "VKrb23wXMgLi"
      },
      "source": [
        "shopping_df['Product'][200]"
      ],
      "execution_count": null,
      "outputs": []
    },
    {
      "cell_type": "markdown",
      "metadata": {
        "id": "KKtREbOxD3cs"
      },
      "source": [
        "### df.iloc\n",
        "\n",
        "**Accessing by position numbers**\n",
        "\n",
        "* `df.iloc()`\n",
        "\n",
        "  * Purely integer-location based indexing for selection by position.\n",
        "  * Unlike in `loc`, if a slice object with indices is passed then **stop is excluded**"
      ]
    },
    {
      "cell_type": "code",
      "metadata": {
        "id": "-J3ivWXys4rn"
      },
      "source": [
        "shopping_df.iloc[[0, 2], [0, 3]]"
      ],
      "execution_count": null,
      "outputs": []
    },
    {
      "cell_type": "code",
      "metadata": {
        "id": "RpZeuiS9pmcj"
      },
      "source": [
        "shopping_df.iloc[0, 1]"
      ],
      "execution_count": null,
      "outputs": []
    },
    {
      "cell_type": "markdown",
      "metadata": {
        "id": "pxKV40oWJCn1"
      },
      "source": [
        "### df.loc\n",
        "\n",
        "**Accessing by label / name**\n",
        "\n",
        "* `df.loc()`\n",
        "\n",
        "  * Access a group of rows and columns by label(s) or a boolean array\n",
        "  * Allowed inputs are:\n",
        "    * single label\n",
        "    * list or array of labels\n",
        "    * slice object with labels (**both start and stop are included**)\n",
        "    * boolean array of the same length as the axis being sliced"
      ]
    },
    {
      "cell_type": "code",
      "metadata": {
        "id": "ieiN-S01mTkO"
      },
      "source": [
        "shopping_df.loc[980]"
      ],
      "execution_count": null,
      "outputs": []
    },
    {
      "cell_type": "code",
      "metadata": {
        "id": "-6ZE7YlsDt_y"
      },
      "source": [
        "shopping_df.loc[[980, 456]]"
      ],
      "execution_count": null,
      "outputs": []
    },
    {
      "cell_type": "code",
      "metadata": {
        "id": "XehvgpPfUNke"
      },
      "source": [
        "shopping_df.loc[[980, 456], ['Product', 'Order Date']]"
      ],
      "execution_count": null,
      "outputs": []
    },
    {
      "cell_type": "code",
      "metadata": {
        "id": "Zfz82eQoqKJY"
      },
      "source": [
        "shopping_df.loc[45, 'Product']"
      ],
      "execution_count": null,
      "outputs": []
    },
    {
      "cell_type": "code",
      "metadata": {
        "id": "GtWuBXhnqwnR"
      },
      "source": [
        "shopping_df[0:3]"
      ],
      "execution_count": null,
      "outputs": []
    },
    {
      "cell_type": "markdown",
      "metadata": {
        "id": "XPXjuJwCAX02"
      },
      "source": [
        "### df.at\n",
        "* `df.at()`\n",
        "  * Access a single value for a row/column label pair.\n",
        "  * Can also set/update a value at a specified row/column pair\n",
        "  * Use `at` only if you need to get or set a single value in a DataFrame or Series.\n"
      ]
    },
    {
      "cell_type": "code",
      "metadata": {
        "id": "UWuEygxWtgBv"
      },
      "source": [
        "shopping_df.at[50000, 'Product']"
      ],
      "execution_count": null,
      "outputs": []
    },
    {
      "cell_type": "code",
      "metadata": {
        "id": "eHqVJygMy-tz"
      },
      "source": [
        "df_copy = shopping_df.copy()"
      ],
      "execution_count": null,
      "outputs": []
    },
    {
      "cell_type": "code",
      "metadata": {
        "id": "ARzJ2xhvtnVX"
      },
      "source": [
        "print(df_copy.at[50000, 'Product'])\n",
        "df_copy.at[50000, 'Product'] = \"Micro USB Cable\"\n",
        "print(df_copy.at[50000, 'Product'], \"\\n\")\n",
        "\n",
        "print(shopping_df.at[50000, 'Product'])"
      ],
      "execution_count": null,
      "outputs": []
    },
    {
      "cell_type": "markdown",
      "metadata": {
        "id": "_O80Dd2ml6-B"
      },
      "source": [
        "## Slicing\n"
      ]
    },
    {
      "cell_type": "code",
      "metadata": {
        "id": "Mcl8lF-mqDew"
      },
      "source": [
        "shopping_df[0:3]"
      ],
      "execution_count": null,
      "outputs": []
    },
    {
      "cell_type": "markdown",
      "metadata": {
        "id": "KLhZpS71mMS1"
      },
      "source": [
        "When slicing using **loc** the start and stop indices are **included**."
      ]
    },
    {
      "cell_type": "code",
      "metadata": {
        "id": "OMlvIPcGrOVo"
      },
      "source": [
        "shopping_df.loc[7:9]"
      ],
      "execution_count": null,
      "outputs": []
    },
    {
      "cell_type": "code",
      "metadata": {
        "id": "mDOAivlRqgHw"
      },
      "source": [
        "shopping_df.loc[23:45, 'Product']"
      ],
      "execution_count": null,
      "outputs": []
    },
    {
      "cell_type": "code",
      "metadata": {
        "id": "Xgm_oy4uSyAX"
      },
      "source": [
        "shopping_df.loc[10:20, 'Product':'Order Date']"
      ],
      "execution_count": null,
      "outputs": []
    },
    {
      "cell_type": "markdown",
      "metadata": {
        "id": "GBsCc9bMmVWB"
      },
      "source": [
        "When slicing using **iloc** the stop index is **excluded**."
      ]
    },
    {
      "cell_type": "code",
      "metadata": {
        "id": "6etlpzhitIVS"
      },
      "source": [
        "shopping_df.iloc[1:2, 0:3]"
      ],
      "execution_count": null,
      "outputs": []
    },
    {
      "cell_type": "code",
      "metadata": {
        "id": "ozCV0hLEU4fG"
      },
      "source": [
        "shopping_df.iloc[1, 0:3]"
      ],
      "execution_count": null,
      "outputs": []
    },
    {
      "cell_type": "markdown",
      "metadata": {
        "id": "FtK-wZKNyZhA"
      },
      "source": [
        "# Try It Yourself\n"
      ]
    },
    {
      "cell_type": "markdown",
      "metadata": {
        "id": "2SA4Z5daycLG"
      },
      "source": [
        "For the following questions, use the **film** dataset.\n",
        "0. Load the dataset into a dataframe using `read_csv`\n",
        "1. Get the shape of the dataset.\n",
        "2. Get the names of the first 6 films.\n",
        "3. Generate descriptive statistics for the dataset, including all datatypes.\n",
        "4. Change the 'Popularity' at the third index to 70.\n",
        "5. Get the data in the first two columns for the last five rows in the dataset."
      ]
    }
  ]
}