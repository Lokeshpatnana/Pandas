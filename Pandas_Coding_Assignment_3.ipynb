{
  "nbformat": 4,
  "nbformat_minor": 0,
  "metadata": {
    "colab": {
      "provenance": [],
      "collapsed_sections": [
        "81yF31X3mNY9"
      ],
      "include_colab_link": true
    },
    "kernelspec": {
      "name": "python3",
      "display_name": "Python 3"
    }
  },
  "cells": [
    {
      "cell_type": "markdown",
      "metadata": {
        "id": "view-in-github",
        "colab_type": "text"
      },
      "source": [
        "<a href=\"https://colab.research.google.com/github/Lokeshpatnana/Pandas/blob/main/Pandas_Coding_Assignment_3.ipynb\" target=\"_parent\"><img src=\"https://colab.research.google.com/assets/colab-badge.svg\" alt=\"Open In Colab\"/></a>"
      ]
    },
    {
      "cell_type": "code",
      "metadata": {
        "id": "3RLs03mtdoEm"
      },
      "source": [
        "import pandas as pd\n",
        "import matplotlib.pyplot as plt"
      ],
      "execution_count": 1,
      "outputs": []
    },
    {
      "cell_type": "markdown",
      "metadata": {
        "id": "yxyjxnhvxu6T"
      },
      "source": [
        "# Data Analysis Process\n",
        "\n",
        "Broadly, data analysis involves the following phases:\n",
        "1. Question Phase - Asking questions\n",
        "2. Wrangling Phase\n",
        "  - Data Acquisition - Acquiring the data required to answer the question by various means\n",
        "  - Data Cleaning - Cleaning the data so it can be used for further analysis\n",
        "3. Data Exploration Phase - Getting familiar with the data, building intuition and finding patterns.\n",
        "4. Drawing Conclusions Phase  - Arriving at conclusions based on the data or making some predictions. This phase usually involves statisitics or Machine Learning.\n",
        "5. Communication Phase - Communicating your findings with the help of PPTs, blog posts etc. Data visualization can be very useful here.\n",
        "\n",
        "\n",
        "**This process is not always done in this order.**\n",
        "\n",
        "There can be a lot of going back and forth between the different phases. Especially the Wrangling Phase and Data Exploration Phase.\n",
        "  - To clean problems in the data, you first need to explore the data to see what problems are there.\n",
        "  - When you think you are done cleaning the data and you start exploring, you are likely to find more problems in the data, and you'll have to go back and clean the data.\n",
        "\n",
        "Also, throughout the process, as you become more familiar with the dataset, you may need to go back and refine the question you're asking."
      ]
    },
    {
      "cell_type": "markdown",
      "metadata": {
        "id": "E-jBt7D1nngK"
      },
      "source": [
        "# Analysis On the School Students Dataset"
      ]
    },
    {
      "cell_type": "markdown",
      "metadata": {
        "id": "HVrVdUXn5QCt"
      },
      "source": [
        "In this assignment, you'll be answering some interesting questions on the school students dataset. They contains data about students' grades, absences, failures from different schools.\n"
      ]
    },
    {
      "cell_type": "markdown",
      "metadata": {
        "id": "IFyYN3ErtTj_"
      },
      "source": [
        "Before attempting the coding questions, take a look at the datasets and understand what each column signifies."
      ]
    },
    {
      "cell_type": "code",
      "metadata": {
        "id": "NdG2HF47jO5Q",
        "colab": {
          "base_uri": "https://localhost:8080/"
        },
        "outputId": "79ba37dd-33ff-42bb-c03d-611a0789c04e"
      },
      "source": [
        "!wget https://nkb-backend-otg-media-static.s3.ap-south-1.amazonaws.com/otg_prod/media/Tech_4.0/AI_ML/Datasets/school_data.csv"
      ],
      "execution_count": 2,
      "outputs": [
        {
          "output_type": "stream",
          "name": "stdout",
          "text": [
            "--2023-11-14 07:46:41--  https://nkb-backend-otg-media-static.s3.ap-south-1.amazonaws.com/otg_prod/media/Tech_4.0/AI_ML/Datasets/school_data.csv\n",
            "Resolving nkb-backend-otg-media-static.s3.ap-south-1.amazonaws.com (nkb-backend-otg-media-static.s3.ap-south-1.amazonaws.com)... 3.5.212.165, 3.5.211.130, 16.12.40.2, ...\n",
            "Connecting to nkb-backend-otg-media-static.s3.ap-south-1.amazonaws.com (nkb-backend-otg-media-static.s3.ap-south-1.amazonaws.com)|3.5.212.165|:443... connected.\n",
            "HTTP request sent, awaiting response... 200 OK\n",
            "Length: 15042 (15K) [text/csv]\n",
            "Saving to: ‘school_data.csv’\n",
            "\n",
            "school_data.csv     100%[===================>]  14.69K  --.-KB/s    in 0s      \n",
            "\n",
            "2023-11-14 07:46:42 (89.7 MB/s) - ‘school_data.csv’ saved [15042/15042]\n",
            "\n"
          ]
        }
      ]
    },
    {
      "cell_type": "code",
      "metadata": {
        "id": "pHQiykHyXVze",
        "colab": {
          "base_uri": "https://localhost:8080/",
          "height": 423
        },
        "outputId": "27c7ff3b-09da-4f37-a4b6-f5b1f6959f9b"
      },
      "source": [
        "students_df = pd.read_csv(\"school_data.csv\")\n",
        "students_df"
      ],
      "execution_count": 3,
      "outputs": [
        {
          "output_type": "execute_result",
          "data": {
            "text/plain": [
              "       school   age  traveltime  studytime  failures activities  freetime  \\\n",
              "0    school_1  18.0         2.0        2.0       0.0         no       3.0   \n",
              "1    school_1  17.0         1.0        2.0       0.0         no       3.0   \n",
              "2    school_1  15.0         1.0        2.0       3.0         no       3.0   \n",
              "3    school_1  15.0         1.0        3.0       0.0        yes       2.0   \n",
              "4    school_1  16.0         1.0        2.0       0.0         no       3.0   \n",
              "..        ...   ...         ...        ...       ...        ...       ...   \n",
              "405  school_8  18.0         2.0        2.0       1.0        yes       1.0   \n",
              "406  school_8  20.0         1.0        2.0       2.0         no       5.0   \n",
              "407  school_8  17.0         2.0        1.0       0.0         no       4.0   \n",
              "408  school_8  21.0         1.0        1.0       3.0         no       5.0   \n",
              "409  school_8  18.0         3.0        1.0       0.0         no       4.0   \n",
              "\n",
              "     absences    G1    G2    G3  student_id  \n",
              "0         6.0   5.0   6.0   6.0           1  \n",
              "1         4.0   5.0   5.0   NaN           2  \n",
              "2        10.0   7.0   8.0  10.0           3  \n",
              "3         2.0  15.0  14.0  15.0           4  \n",
              "4         4.0   6.0  10.0  10.0           5  \n",
              "..        ...   ...   ...   ...         ...  \n",
              "405       0.0   6.0   5.0   0.0         406  \n",
              "406      11.0   9.0   9.0   9.0         407  \n",
              "407       3.0  14.0  16.0  16.0         408  \n",
              "408       3.0  10.0   8.0   7.0         409  \n",
              "409       0.0  11.0  12.0  10.0         410  \n",
              "\n",
              "[410 rows x 12 columns]"
            ],
            "text/html": [
              "\n",
              "  <div id=\"df-78f8b9dc-1d61-4145-8ce3-33a6c8d57354\" class=\"colab-df-container\">\n",
              "    <div>\n",
              "<style scoped>\n",
              "    .dataframe tbody tr th:only-of-type {\n",
              "        vertical-align: middle;\n",
              "    }\n",
              "\n",
              "    .dataframe tbody tr th {\n",
              "        vertical-align: top;\n",
              "    }\n",
              "\n",
              "    .dataframe thead th {\n",
              "        text-align: right;\n",
              "    }\n",
              "</style>\n",
              "<table border=\"1\" class=\"dataframe\">\n",
              "  <thead>\n",
              "    <tr style=\"text-align: right;\">\n",
              "      <th></th>\n",
              "      <th>school</th>\n",
              "      <th>age</th>\n",
              "      <th>traveltime</th>\n",
              "      <th>studytime</th>\n",
              "      <th>failures</th>\n",
              "      <th>activities</th>\n",
              "      <th>freetime</th>\n",
              "      <th>absences</th>\n",
              "      <th>G1</th>\n",
              "      <th>G2</th>\n",
              "      <th>G3</th>\n",
              "      <th>student_id</th>\n",
              "    </tr>\n",
              "  </thead>\n",
              "  <tbody>\n",
              "    <tr>\n",
              "      <th>0</th>\n",
              "      <td>school_1</td>\n",
              "      <td>18.0</td>\n",
              "      <td>2.0</td>\n",
              "      <td>2.0</td>\n",
              "      <td>0.0</td>\n",
              "      <td>no</td>\n",
              "      <td>3.0</td>\n",
              "      <td>6.0</td>\n",
              "      <td>5.0</td>\n",
              "      <td>6.0</td>\n",
              "      <td>6.0</td>\n",
              "      <td>1</td>\n",
              "    </tr>\n",
              "    <tr>\n",
              "      <th>1</th>\n",
              "      <td>school_1</td>\n",
              "      <td>17.0</td>\n",
              "      <td>1.0</td>\n",
              "      <td>2.0</td>\n",
              "      <td>0.0</td>\n",
              "      <td>no</td>\n",
              "      <td>3.0</td>\n",
              "      <td>4.0</td>\n",
              "      <td>5.0</td>\n",
              "      <td>5.0</td>\n",
              "      <td>NaN</td>\n",
              "      <td>2</td>\n",
              "    </tr>\n",
              "    <tr>\n",
              "      <th>2</th>\n",
              "      <td>school_1</td>\n",
              "      <td>15.0</td>\n",
              "      <td>1.0</td>\n",
              "      <td>2.0</td>\n",
              "      <td>3.0</td>\n",
              "      <td>no</td>\n",
              "      <td>3.0</td>\n",
              "      <td>10.0</td>\n",
              "      <td>7.0</td>\n",
              "      <td>8.0</td>\n",
              "      <td>10.0</td>\n",
              "      <td>3</td>\n",
              "    </tr>\n",
              "    <tr>\n",
              "      <th>3</th>\n",
              "      <td>school_1</td>\n",
              "      <td>15.0</td>\n",
              "      <td>1.0</td>\n",
              "      <td>3.0</td>\n",
              "      <td>0.0</td>\n",
              "      <td>yes</td>\n",
              "      <td>2.0</td>\n",
              "      <td>2.0</td>\n",
              "      <td>15.0</td>\n",
              "      <td>14.0</td>\n",
              "      <td>15.0</td>\n",
              "      <td>4</td>\n",
              "    </tr>\n",
              "    <tr>\n",
              "      <th>4</th>\n",
              "      <td>school_1</td>\n",
              "      <td>16.0</td>\n",
              "      <td>1.0</td>\n",
              "      <td>2.0</td>\n",
              "      <td>0.0</td>\n",
              "      <td>no</td>\n",
              "      <td>3.0</td>\n",
              "      <td>4.0</td>\n",
              "      <td>6.0</td>\n",
              "      <td>10.0</td>\n",
              "      <td>10.0</td>\n",
              "      <td>5</td>\n",
              "    </tr>\n",
              "    <tr>\n",
              "      <th>...</th>\n",
              "      <td>...</td>\n",
              "      <td>...</td>\n",
              "      <td>...</td>\n",
              "      <td>...</td>\n",
              "      <td>...</td>\n",
              "      <td>...</td>\n",
              "      <td>...</td>\n",
              "      <td>...</td>\n",
              "      <td>...</td>\n",
              "      <td>...</td>\n",
              "      <td>...</td>\n",
              "      <td>...</td>\n",
              "    </tr>\n",
              "    <tr>\n",
              "      <th>405</th>\n",
              "      <td>school_8</td>\n",
              "      <td>18.0</td>\n",
              "      <td>2.0</td>\n",
              "      <td>2.0</td>\n",
              "      <td>1.0</td>\n",
              "      <td>yes</td>\n",
              "      <td>1.0</td>\n",
              "      <td>0.0</td>\n",
              "      <td>6.0</td>\n",
              "      <td>5.0</td>\n",
              "      <td>0.0</td>\n",
              "      <td>406</td>\n",
              "    </tr>\n",
              "    <tr>\n",
              "      <th>406</th>\n",
              "      <td>school_8</td>\n",
              "      <td>20.0</td>\n",
              "      <td>1.0</td>\n",
              "      <td>2.0</td>\n",
              "      <td>2.0</td>\n",
              "      <td>no</td>\n",
              "      <td>5.0</td>\n",
              "      <td>11.0</td>\n",
              "      <td>9.0</td>\n",
              "      <td>9.0</td>\n",
              "      <td>9.0</td>\n",
              "      <td>407</td>\n",
              "    </tr>\n",
              "    <tr>\n",
              "      <th>407</th>\n",
              "      <td>school_8</td>\n",
              "      <td>17.0</td>\n",
              "      <td>2.0</td>\n",
              "      <td>1.0</td>\n",
              "      <td>0.0</td>\n",
              "      <td>no</td>\n",
              "      <td>4.0</td>\n",
              "      <td>3.0</td>\n",
              "      <td>14.0</td>\n",
              "      <td>16.0</td>\n",
              "      <td>16.0</td>\n",
              "      <td>408</td>\n",
              "    </tr>\n",
              "    <tr>\n",
              "      <th>408</th>\n",
              "      <td>school_8</td>\n",
              "      <td>21.0</td>\n",
              "      <td>1.0</td>\n",
              "      <td>1.0</td>\n",
              "      <td>3.0</td>\n",
              "      <td>no</td>\n",
              "      <td>5.0</td>\n",
              "      <td>3.0</td>\n",
              "      <td>10.0</td>\n",
              "      <td>8.0</td>\n",
              "      <td>7.0</td>\n",
              "      <td>409</td>\n",
              "    </tr>\n",
              "    <tr>\n",
              "      <th>409</th>\n",
              "      <td>school_8</td>\n",
              "      <td>18.0</td>\n",
              "      <td>3.0</td>\n",
              "      <td>1.0</td>\n",
              "      <td>0.0</td>\n",
              "      <td>no</td>\n",
              "      <td>4.0</td>\n",
              "      <td>0.0</td>\n",
              "      <td>11.0</td>\n",
              "      <td>12.0</td>\n",
              "      <td>10.0</td>\n",
              "      <td>410</td>\n",
              "    </tr>\n",
              "  </tbody>\n",
              "</table>\n",
              "<p>410 rows × 12 columns</p>\n",
              "</div>\n",
              "    <div class=\"colab-df-buttons\">\n",
              "\n",
              "  <div class=\"colab-df-container\">\n",
              "    <button class=\"colab-df-convert\" onclick=\"convertToInteractive('df-78f8b9dc-1d61-4145-8ce3-33a6c8d57354')\"\n",
              "            title=\"Convert this dataframe to an interactive table.\"\n",
              "            style=\"display:none;\">\n",
              "\n",
              "  <svg xmlns=\"http://www.w3.org/2000/svg\" height=\"24px\" viewBox=\"0 -960 960 960\">\n",
              "    <path d=\"M120-120v-720h720v720H120Zm60-500h600v-160H180v160Zm220 220h160v-160H400v160Zm0 220h160v-160H400v160ZM180-400h160v-160H180v160Zm440 0h160v-160H620v160ZM180-180h160v-160H180v160Zm440 0h160v-160H620v160Z\"/>\n",
              "  </svg>\n",
              "    </button>\n",
              "\n",
              "  <style>\n",
              "    .colab-df-container {\n",
              "      display:flex;\n",
              "      gap: 12px;\n",
              "    }\n",
              "\n",
              "    .colab-df-convert {\n",
              "      background-color: #E8F0FE;\n",
              "      border: none;\n",
              "      border-radius: 50%;\n",
              "      cursor: pointer;\n",
              "      display: none;\n",
              "      fill: #1967D2;\n",
              "      height: 32px;\n",
              "      padding: 0 0 0 0;\n",
              "      width: 32px;\n",
              "    }\n",
              "\n",
              "    .colab-df-convert:hover {\n",
              "      background-color: #E2EBFA;\n",
              "      box-shadow: 0px 1px 2px rgba(60, 64, 67, 0.3), 0px 1px 3px 1px rgba(60, 64, 67, 0.15);\n",
              "      fill: #174EA6;\n",
              "    }\n",
              "\n",
              "    .colab-df-buttons div {\n",
              "      margin-bottom: 4px;\n",
              "    }\n",
              "\n",
              "    [theme=dark] .colab-df-convert {\n",
              "      background-color: #3B4455;\n",
              "      fill: #D2E3FC;\n",
              "    }\n",
              "\n",
              "    [theme=dark] .colab-df-convert:hover {\n",
              "      background-color: #434B5C;\n",
              "      box-shadow: 0px 1px 3px 1px rgba(0, 0, 0, 0.15);\n",
              "      filter: drop-shadow(0px 1px 2px rgba(0, 0, 0, 0.3));\n",
              "      fill: #FFFFFF;\n",
              "    }\n",
              "  </style>\n",
              "\n",
              "    <script>\n",
              "      const buttonEl =\n",
              "        document.querySelector('#df-78f8b9dc-1d61-4145-8ce3-33a6c8d57354 button.colab-df-convert');\n",
              "      buttonEl.style.display =\n",
              "        google.colab.kernel.accessAllowed ? 'block' : 'none';\n",
              "\n",
              "      async function convertToInteractive(key) {\n",
              "        const element = document.querySelector('#df-78f8b9dc-1d61-4145-8ce3-33a6c8d57354');\n",
              "        const dataTable =\n",
              "          await google.colab.kernel.invokeFunction('convertToInteractive',\n",
              "                                                    [key], {});\n",
              "        if (!dataTable) return;\n",
              "\n",
              "        const docLinkHtml = 'Like what you see? Visit the ' +\n",
              "          '<a target=\"_blank\" href=https://colab.research.google.com/notebooks/data_table.ipynb>data table notebook</a>'\n",
              "          + ' to learn more about interactive tables.';\n",
              "        element.innerHTML = '';\n",
              "        dataTable['output_type'] = 'display_data';\n",
              "        await google.colab.output.renderOutput(dataTable, element);\n",
              "        const docLink = document.createElement('div');\n",
              "        docLink.innerHTML = docLinkHtml;\n",
              "        element.appendChild(docLink);\n",
              "      }\n",
              "    </script>\n",
              "  </div>\n",
              "\n",
              "\n",
              "<div id=\"df-aa9459c1-26f6-4298-94a3-fa05dbedcce5\">\n",
              "  <button class=\"colab-df-quickchart\" onclick=\"quickchart('df-aa9459c1-26f6-4298-94a3-fa05dbedcce5')\"\n",
              "            title=\"Suggest charts\"\n",
              "            style=\"display:none;\">\n",
              "\n",
              "<svg xmlns=\"http://www.w3.org/2000/svg\" height=\"24px\"viewBox=\"0 0 24 24\"\n",
              "     width=\"24px\">\n",
              "    <g>\n",
              "        <path d=\"M19 3H5c-1.1 0-2 .9-2 2v14c0 1.1.9 2 2 2h14c1.1 0 2-.9 2-2V5c0-1.1-.9-2-2-2zM9 17H7v-7h2v7zm4 0h-2V7h2v10zm4 0h-2v-4h2v4z\"/>\n",
              "    </g>\n",
              "</svg>\n",
              "  </button>\n",
              "\n",
              "<style>\n",
              "  .colab-df-quickchart {\n",
              "      --bg-color: #E8F0FE;\n",
              "      --fill-color: #1967D2;\n",
              "      --hover-bg-color: #E2EBFA;\n",
              "      --hover-fill-color: #174EA6;\n",
              "      --disabled-fill-color: #AAA;\n",
              "      --disabled-bg-color: #DDD;\n",
              "  }\n",
              "\n",
              "  [theme=dark] .colab-df-quickchart {\n",
              "      --bg-color: #3B4455;\n",
              "      --fill-color: #D2E3FC;\n",
              "      --hover-bg-color: #434B5C;\n",
              "      --hover-fill-color: #FFFFFF;\n",
              "      --disabled-bg-color: #3B4455;\n",
              "      --disabled-fill-color: #666;\n",
              "  }\n",
              "\n",
              "  .colab-df-quickchart {\n",
              "    background-color: var(--bg-color);\n",
              "    border: none;\n",
              "    border-radius: 50%;\n",
              "    cursor: pointer;\n",
              "    display: none;\n",
              "    fill: var(--fill-color);\n",
              "    height: 32px;\n",
              "    padding: 0;\n",
              "    width: 32px;\n",
              "  }\n",
              "\n",
              "  .colab-df-quickchart:hover {\n",
              "    background-color: var(--hover-bg-color);\n",
              "    box-shadow: 0 1px 2px rgba(60, 64, 67, 0.3), 0 1px 3px 1px rgba(60, 64, 67, 0.15);\n",
              "    fill: var(--button-hover-fill-color);\n",
              "  }\n",
              "\n",
              "  .colab-df-quickchart-complete:disabled,\n",
              "  .colab-df-quickchart-complete:disabled:hover {\n",
              "    background-color: var(--disabled-bg-color);\n",
              "    fill: var(--disabled-fill-color);\n",
              "    box-shadow: none;\n",
              "  }\n",
              "\n",
              "  .colab-df-spinner {\n",
              "    border: 2px solid var(--fill-color);\n",
              "    border-color: transparent;\n",
              "    border-bottom-color: var(--fill-color);\n",
              "    animation:\n",
              "      spin 1s steps(1) infinite;\n",
              "  }\n",
              "\n",
              "  @keyframes spin {\n",
              "    0% {\n",
              "      border-color: transparent;\n",
              "      border-bottom-color: var(--fill-color);\n",
              "      border-left-color: var(--fill-color);\n",
              "    }\n",
              "    20% {\n",
              "      border-color: transparent;\n",
              "      border-left-color: var(--fill-color);\n",
              "      border-top-color: var(--fill-color);\n",
              "    }\n",
              "    30% {\n",
              "      border-color: transparent;\n",
              "      border-left-color: var(--fill-color);\n",
              "      border-top-color: var(--fill-color);\n",
              "      border-right-color: var(--fill-color);\n",
              "    }\n",
              "    40% {\n",
              "      border-color: transparent;\n",
              "      border-right-color: var(--fill-color);\n",
              "      border-top-color: var(--fill-color);\n",
              "    }\n",
              "    60% {\n",
              "      border-color: transparent;\n",
              "      border-right-color: var(--fill-color);\n",
              "    }\n",
              "    80% {\n",
              "      border-color: transparent;\n",
              "      border-right-color: var(--fill-color);\n",
              "      border-bottom-color: var(--fill-color);\n",
              "    }\n",
              "    90% {\n",
              "      border-color: transparent;\n",
              "      border-bottom-color: var(--fill-color);\n",
              "    }\n",
              "  }\n",
              "</style>\n",
              "\n",
              "  <script>\n",
              "    async function quickchart(key) {\n",
              "      const quickchartButtonEl =\n",
              "        document.querySelector('#' + key + ' button');\n",
              "      quickchartButtonEl.disabled = true;  // To prevent multiple clicks.\n",
              "      quickchartButtonEl.classList.add('colab-df-spinner');\n",
              "      try {\n",
              "        const charts = await google.colab.kernel.invokeFunction(\n",
              "            'suggestCharts', [key], {});\n",
              "      } catch (error) {\n",
              "        console.error('Error during call to suggestCharts:', error);\n",
              "      }\n",
              "      quickchartButtonEl.classList.remove('colab-df-spinner');\n",
              "      quickchartButtonEl.classList.add('colab-df-quickchart-complete');\n",
              "    }\n",
              "    (() => {\n",
              "      let quickchartButtonEl =\n",
              "        document.querySelector('#df-aa9459c1-26f6-4298-94a3-fa05dbedcce5 button');\n",
              "      quickchartButtonEl.style.display =\n",
              "        google.colab.kernel.accessAllowed ? 'block' : 'none';\n",
              "    })();\n",
              "  </script>\n",
              "</div>\n",
              "    </div>\n",
              "  </div>\n"
            ]
          },
          "metadata": {},
          "execution_count": 3
        }
      ]
    },
    {
      "cell_type": "markdown",
      "metadata": {
        "id": "81yF31X3mNY9"
      },
      "source": [
        "# Getting Started with Matplotlib"
      ]
    },
    {
      "cell_type": "markdown",
      "metadata": {
        "id": "gkkH6vrzlw_2"
      },
      "source": [
        "* **plt.bar():** Make a bar plot.\n",
        "* **plt.plot():** Can be used to make a line graph.\n",
        "\n",
        "_____________________________________________________________________________\n",
        "* **plt.xticks():** A list of positions at which ticks should be placed.\n",
        "* **plt.xlabel(label_name):** Set the label for the x-axis.\n",
        "* **plt.ylabel(label_name):** Set the label for the y-axis.\n",
        "\n",
        "* **plt.show():** Display a figure.\n",
        "* **plt.grid():** Configure the grid lines.\n",
        "\n",
        "______________________________________________________________________________\n",
        "\n",
        "* **plt.subplots():** Add a subplot to the current figure. It returns two arguments fig and ax where fig is figure and ax can be either a single Axes object or an array of Axes objects.\n",
        "* **ax.twinx():** Creates a twin Axes sharing the xaxis.\n",
        "* **ax.set_xlabel():** Set the label for the x-axis.\n",
        "* **ax.set_ylabel():** Set the label for the y-axis.\n",
        "* **ax.set_xticklabels():** Set the xaxis' labels with list of string labels.\n",
        "\n"
      ]
    },
    {
      "cell_type": "markdown",
      "metadata": {
        "id": "iqEanbtAUMZL"
      },
      "source": [
        "### ***Refer to the [matplotlib documentation](https://matplotlib.org/3.3.3/tutorials/index.html) for more details.***"
      ]
    },
    {
      "cell_type": "markdown",
      "metadata": {
        "id": "L36hRux9T0Y1"
      },
      "source": [
        "## **Example 1**"
      ]
    },
    {
      "cell_type": "markdown",
      "metadata": {
        "id": "OgdDV0fblw_2"
      },
      "source": [
        "\n",
        "5 students' marks are plotted on a bar graph."
      ]
    },
    {
      "cell_type": "code",
      "metadata": {
        "id": "fu8E_e3Ylw_2",
        "colab": {
          "base_uri": "https://localhost:8080/",
          "height": 449
        },
        "outputId": "a7417c40-bb72-4fe1-9240-841b440d5143"
      },
      "source": [
        "import matplotlib.pyplot as plt\n",
        "marks_scored = [34, 98, 67, 89, 100]\n",
        "roll_no = range(1, 6)\n",
        "plt.bar(roll_no, marks_scored)\n",
        "plt.xticks(roll_no)\n",
        "plt.xlabel('roll no')\n",
        "plt.ylabel('Marks scored')\n",
        "plt.show()"
      ],
      "execution_count": 4,
      "outputs": [
        {
          "output_type": "display_data",
          "data": {
            "text/plain": [
              "<Figure size 640x480 with 1 Axes>"
            ],
            "image/png": "[encoded data removed]"
          },
          "metadata": {}
        }
      ]
    },
    {
      "cell_type": "markdown",
      "metadata": {
        "id": "I_BSEGVjUFNt"
      },
      "source": [
        "## **Example 2**"
      ]
    },
    {
      "cell_type": "markdown",
      "metadata": {
        "id": "xX5UkyBYPSqL"
      },
      "source": [
        "Plot y versus x as lines and/or markers."
      ]
    },
    {
      "cell_type": "code",
      "metadata": {
        "id": "O0gD03iXUJ1x",
        "colab": {
          "base_uri": "https://localhost:8080/",
          "height": 449
        },
        "outputId": "fd91b6de-7579-4f56-c758-7a531a5a6801"
      },
      "source": [
        "classes = [1,2,3,4,5]\n",
        "performance = [4, 7, 9, 8, 10]\n",
        "\n",
        "plt.plot(classes, performance)\n",
        "plt.xticks(classes)\n",
        "plt.xlabel('classes')\n",
        "plt.ylabel('performance')\n",
        "plt.grid()\n",
        "plt.show()"
      ],
      "execution_count": 5,
      "outputs": [
        {
          "output_type": "display_data",
          "data": {
            "text/plain": [
              "<Figure size 640x480 with 1 Axes>"
            ],
            "image/png": "[encoded data removed]"
          },
          "metadata": {}
        }
      ]
    },
    {
      "cell_type": "markdown",
      "metadata": {
        "id": "EujW-708UFY3"
      },
      "source": [
        "## **Example 3**"
      ]
    },
    {
      "cell_type": "markdown",
      "metadata": {
        "id": "S1tQt6aMN-SZ"
      },
      "source": [
        "Create a set of subplots in a single graph"
      ]
    },
    {
      "cell_type": "code",
      "metadata": {
        "id": "qdtEsiq8ULcr",
        "colab": {
          "base_uri": "https://localhost:8080/",
          "height": 519
        },
        "outputId": "9c5be83f-69ef-431f-c426-dd6fe90333a6"
      },
      "source": [
        "prices = [50, 60, 33, 45, 72, 100]\n",
        "quantity = [2, 5, 10, 12, 20, 8]\n",
        "products = ['pens', 'pencils', 'book', 'box', 'map', 'globe']\n",
        "\n",
        "fig, ax1 = plt.subplots()\n",
        "ax2 = ax1.twinx()\n",
        "\n",
        "ax1.bar(products, quantity, color='g')\n",
        "ax2.plot(products, prices, 'b')\n",
        "\n",
        "ax1.set_xlabel('Product Name')\n",
        "ax1.set_ylabel('Quantity Ordered', color='g')\n",
        "ax2.set_ylabel('Price ($)', color='b')\n",
        "\n",
        "ax1.set_xticklabels(products, rotation='vertical')\n",
        "\n",
        "plt.show()"
      ],
      "execution_count": 6,
      "outputs": [
        {
          "output_type": "stream",
          "name": "stderr",
          "text": [
            "<ipython-input-6-35460ef1e3fe>:15: UserWarning: FixedFormatter should only be used together with FixedLocator\n",
            "  ax1.set_xticklabels(products, rotation='vertical')\n"
          ]
        },
        {
          "output_type": "display_data",
          "data": {
            "text/plain": [
              "<Figure size 640x480 with 2 Axes>"
            ],
            "image/png": "[encoded data removed]"
          },
          "metadata": {}
        }
      ]
    },
    {
      "cell_type": "markdown",
      "metadata": {
        "id": "U7lirbyu0-BY"
      },
      "source": [
        "#**Question 1:**\n",
        "\n",
        "* **What was the average study time of students of different ages?**\n",
        "* **At what age students average study time is more?**"
      ]
    },
    {
      "cell_type": "markdown",
      "metadata": {
        "id": "KorvkNmB2yjO"
      },
      "source": [
        " ## Cleaning the data:\n",
        "* Ensure no NaN values are present in the data.\n",
        "* Ensure that the columns are of the appropriate data types.\n"
      ]
    },
    {
      "cell_type": "code",
      "metadata": {
        "id": "uPLY1fE04EdQ",
        "colab": {
          "base_uri": "https://localhost:8080/"
        },
        "outputId": "2f169fa6-23ef-472a-d599-f59160cfad90"
      },
      "source": [
        "students_df.dropna(inplace=True)\n",
        "students_df['age'] = students_df['age'].astype(dtype=int)\n",
        "students_df.dtypes"
      ],
      "execution_count": 7,
      "outputs": [
        {
          "output_type": "execute_result",
          "data": {
            "text/plain": [
              "school         object\n",
              "age             int64\n",
              "traveltime    float64\n",
              "studytime     float64\n",
              "failures      float64\n",
              "activities     object\n",
              "freetime      float64\n",
              "absences      float64\n",
              "G1            float64\n",
              "G2            float64\n",
              "G3            float64\n",
              "student_id      int64\n",
              "dtype: object"
            ]
          },
          "metadata": {},
          "execution_count": 7
        }
      ]
    },
    {
      "cell_type": "markdown",
      "metadata": {
        "id": "pqmzZt9r4o7w"
      },
      "source": [
        "##Analysis:\n",
        "* Find the mean of studytime of students of each age group.\n",
        "* Find the age groups in which average study time is maximum."
      ]
    },
    {
      "cell_type": "code",
      "metadata": {
        "id": "QEhVcCXqPJED",
        "colab": {
          "base_uri": "https://localhost:8080/"
        },
        "outputId": "77782e08-d2d3-4eb7-fda8-ec9b7ae9b58d"
      },
      "source": [
        "grouped_students_df = students_df.groupby('age')['studytime'].mean()\n",
        "grouped_students_df.idxmax()"
      ],
      "execution_count": 8,
      "outputs": [
        {
          "output_type": "execute_result",
          "data": {
            "text/plain": [
              "15"
            ]
          },
          "metadata": {},
          "execution_count": 8
        }
      ]
    },
    {
      "cell_type": "markdown",
      "metadata": {
        "id": "p8auZR9Qlw_2"
      },
      "source": [
        " ## Plotting:\n",
        "* Plot a bar graph between ages and average studytime of each age to get a visual understanding of how studytime have changed over the different ages.\n",
        "\n",
        "**Note:** To plot the graph, you can use the matplotlib library. Refer to the section **_Getting Started with Matplotlib_** for further details."
      ]
    },
    {
      "cell_type": "code",
      "metadata": {
        "id": "2cPaXn2z4rkk",
        "colab": {
          "base_uri": "https://localhost:8080/",
          "height": 466
        },
        "outputId": "078815aa-91dd-4d54-f308-2c80af06345a"
      },
      "source": [
        "study_time = grouped_students_df\n",
        "plt.bar(study_time.index,study_time)\n",
        "plt.xlabel('Age')\n",
        "plt.ylabel('Study time in hrs')\n",
        "plt.show"
      ],
      "execution_count": 10,
      "outputs": [
        {
          "output_type": "execute_result",
          "data": {
            "text/plain": [
              "<function matplotlib.pyplot.show(close=None, block=None)>"
            ]
          },
          "metadata": {},
          "execution_count": 10
        },
        {
          "output_type": "display_data",
          "data": {
            "text/plain": [
              "<Figure size 640x480 with 1 Axes>"
            ],
            "image/png": "[encoded data removed]"
          },
          "metadata": {}
        }
      ]
    },
    {
      "cell_type": "markdown",
      "metadata": {
        "id": "BTHIMP196bHA"
      },
      "source": [
        "#**Question 2:**\n",
        "\n",
        "* **How many students of `school_6` scored more than median grades in each subject(G1,G2,G3)?**"
      ]
    },
    {
      "cell_type": "markdown",
      "metadata": {
        "id": "CcW6xBcS6bHE"
      },
      "source": [
        "##Analysis:\n",
        "* Get the data of `school_6`.\n",
        "* Find the median grades scored by students in each subject.\n",
        "* Find the number of students scored more than median grades in each subject."
      ]
    },
    {
      "cell_type": "code",
      "metadata": {
        "id": "3t_hZJnrBw44",
        "colab": {
          "base_uri": "https://localhost:8080/"
        },
        "outputId": "e2b5b4cd-22eb-4c64-df90-6337a80d653f"
      },
      "source": [
        "school_6_df = students_df[students_df['school'] == 'school_6']\n",
        "medians_subjects = school_6_df.median().loc[['G1','G2','G3']]\n",
        "mask_df = school_6_df.loc[:,'G1':'G3'] > medians_subjects.loc[:]\n",
        "mask_df.sum()"
      ],
      "execution_count": 11,
      "outputs": [
        {
          "output_type": "stream",
          "name": "stderr",
          "text": [
            "<ipython-input-11-8f8b4a9b2caa>:2: FutureWarning: The default value of numeric_only in DataFrame.median is deprecated. In a future version, it will default to False. In addition, specifying 'numeric_only=None' is deprecated. Select only valid columns or specify the value of numeric_only to silence this warning.\n",
            "  medians_subjects = school_6_df.median().loc[['G1','G2','G3']]\n"
          ]
        },
        {
          "output_type": "execute_result",
          "data": {
            "text/plain": [
              "G1    17\n",
              "G2    20\n",
              "G3    19\n",
              "dtype: int64"
            ]
          },
          "metadata": {},
          "execution_count": 11
        }
      ]
    },
    {
      "cell_type": "markdown",
      "metadata": {
        "id": "DLMsdtFnPfoW"
      },
      "source": [
        " ## Plotting:\n",
        "* Plot a line graph between student ids of `school_6` and grades in the subjects `G1`, `G2` and `G3` to get a visual understanding of students performance in different subjects.\n",
        "\n",
        "**Note:** To plot the graph, you can use the matplotlib library. Refer to the section **_Getting Started with Matplotlib_** for further details."
      ]
    },
    {
      "cell_type": "code",
      "metadata": {
        "id": "LM8Ax9j0pwed",
        "colab": {
          "base_uri": "https://localhost:8080/",
          "height": 449
        },
        "outputId": "56647a08-4c3d-4bd4-b5b9-704b1ee97237"
      },
      "source": [
        "students = school_6_df['student_id']\n",
        "plt.plot(students,school_6_df['G1'])\n",
        "plt.plot(students,school_6_df['G2'])\n",
        "plt.plot(students,school_6_df['G3'])\n",
        "\n",
        "plt.xlabel('Student Ids')\n",
        "plt.ylabel('Grades')\n",
        "plt.legend([\"G1\",\"G2\",\"G3\"])\n",
        "plt.show()"
      ],
      "execution_count": 12,
      "outputs": [
        {
          "output_type": "display_data",
          "data": {
            "text/plain": [
              "<Figure size 640x480 with 1 Axes>"
            ],
            "image/png": "[encoded data removed]"
          },
          "metadata": {}
        }
      ]
    },
    {
      "cell_type": "markdown",
      "metadata": {
        "id": "dTEorEfpINGl"
      },
      "source": [
        "#**Question 3:**\n",
        "\n",
        "* **Which school has highest no of students with no absence and no failures?**"
      ]
    },
    {
      "cell_type": "markdown",
      "metadata": {
        "id": "thE4nGzmJkVe"
      },
      "source": [
        "##Analysis:\n",
        "* Find the students who never kept leave for school and never failed.\n",
        "* Find the school which has highest number of students obeying the above condition."
      ]
    },
    {
      "cell_type": "code",
      "metadata": {
        "id": "EfFLy2NhsOhm",
        "colab": {
          "base_uri": "https://localhost:8080/",
          "height": 35
        },
        "outputId": "2aa64986-a464-47f5-d17f-de50370836f7"
      },
      "source": [
        "no_absents_failure_students_mask = ((students_df['absences'] == 0) & (students_df['failures'] == 0))\n",
        "no_absents_failure_students_df = students_df.loc[no_absents_failure_students_mask]\n",
        "schools_students_df = no_absents_failure_students_df.groupby('school').count()['student_id']\n",
        "schools_students_df.idxmax()"
      ],
      "execution_count": 15,
      "outputs": [
        {
          "output_type": "execute_result",
          "data": {
            "text/plain": [
              "'school_5'"
            ],
            "application/vnd.google.colaboratory.intrinsic+json": {
              "type": "string"
            }
          },
          "metadata": {},
          "execution_count": 15
        }
      ]
    },
    {
      "cell_type": "markdown",
      "metadata": {
        "id": "Os1JbSNZMK0o"
      },
      "source": [
        " ## Plotting:\n",
        "* Plot a bar graph between schools and number of students who never kept leave and never failed, to get a visual understanding of which schools have better students' performance and presence.\n",
        "\n",
        "**Note:** To plot the graph, you can use the matplotlib library. Refer to the section **_Getting Started with Matplotlib_** for further details."
      ]
    },
    {
      "cell_type": "code",
      "metadata": {
        "id": "gPD_dE5tt2TO",
        "colab": {
          "base_uri": "https://localhost:8080/",
          "height": 496
        },
        "outputId": "46fdb16e-cfd8-4912-b1f3-5517de148f9e"
      },
      "source": [
        "schools = schools_students_df.index\n",
        "frequencies = schools_students_df\n",
        "plt.bar(schools,frequencies)\n",
        "plt.xticks(schools,rotation='vertical')\n",
        "plt.xlabel(\"School Names\")\n",
        "plt.ylabel(\"Number Of Students\")\n",
        "plt.show()"
      ],
      "execution_count": 16,
      "outputs": [
        {
          "output_type": "display_data",
          "data": {
            "text/plain": [
              "<Figure size 640x480 with 1 Axes>"
            ],
            "image/png": "[encoded data removed]"
          },
          "metadata": {}
        }
      ]
    }
  ]
}