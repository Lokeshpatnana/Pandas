{
  "nbformat": 4,
  "nbformat_minor": 0,
  "metadata": {
    "colab": {
      "provenance": [],
      "toc_visible": true,
      "include_colab_link": true
    },
    "kernelspec": {
      "name": "python3",
      "display_name": "Python 3"
    }
  },
  "cells": [
    {
      "cell_type": "markdown",
      "metadata": {
        "id": "view-in-github",
        "colab_type": "text"
      },
      "source": [
        "<a href=\"https://colab.research.google.com/github/Lokeshpatnana/Pandas/blob/main/Pandas_Modifying_DataFrames_and_Series_Part_2.ipynb\" target=\"_parent\"><img src=\"https://colab.research.google.com/assets/colab-badge.svg\" alt=\"Open In Colab\"/></a>"
      ]
    },
    {
      "cell_type": "code",
      "metadata": {
        "id": "XtyPJLjoEyUS"
      },
      "source": [
        "import pandas as pd\n",
        "import numpy as np"
      ],
      "execution_count": null,
      "outputs": []
    },
    {
      "cell_type": "markdown",
      "metadata": {
        "id": "9AF3vu8QRfcB"
      },
      "source": [
        "# Downloading and Loading Datasets\n",
        "Downloading all the required csv files and loading the data into the dataframes"
      ]
    },
    {
      "cell_type": "code",
      "metadata": {
        "id": "g3OjByf8RfcB"
      },
      "source": [
        "# eCommerce Dataset\n",
        "!wget https://nkb-backend-otg-media-static.s3.ap-south-1.amazonaws.com/otg_prod/media/Tech_4.0/AI_ML/Datasets/shopping_data_v2.csv\n",
        "\n",
        "shopping_df = pd.read_csv('shopping_data_v2.csv')"
      ],
      "execution_count": null,
      "outputs": []
    },
    {
      "cell_type": "code",
      "metadata": {
        "id": "LIYeqaK_M8wZ"
      },
      "source": [
        "# Covid Dataset\n",
        "!wget https://nkb-backend-otg-media-static.s3.ap-south-1.amazonaws.com/otg_prod/media/Tech_4.0/AI_ML/Datasets/italy-covid-daywise.csv\n",
        "\n",
        "covid_df = pd.read_csv('italy-covid-daywise.csv')"
      ],
      "execution_count": null,
      "outputs": []
    },
    {
      "cell_type": "code",
      "metadata": {
        "id": "pNKwxH46M8lC"
      },
      "source": [
        "# Stackoverflow Survey Dataset\n",
        "!wget https://nkb-backend-otg-media-static.s3.ap-south-1.amazonaws.com/otg_prod/media/Tech_4.0/AI_ML/Datasets/survey_results_public.csv\n",
        "\n",
        "survey_df = pd.read_csv('survey_results_public.csv')"
      ],
      "execution_count": null,
      "outputs": []
    },
    {
      "cell_type": "code",
      "metadata": {
        "id": "2PuJZuRAM8Za"
      },
      "source": [
        "# Film Dataset\n",
        "!wget https://nkb-backend-otg-media-static.s3.ap-south-1.amazonaws.com/otg_prod/media/Tech_4.0/AI_ML/Datasets/film.csv\n",
        "\n",
        "films_df = pd.read_csv('film.csv')"
      ],
      "execution_count": null,
      "outputs": []
    },
    {
      "cell_type": "code",
      "metadata": {
        "id": "pSf0CMJRty8u"
      },
      "source": [
        "people = {\n",
        "    \"first\": [\"Kristen\", 'Maxine', 'John'],\n",
        "    \"last\": [\"Carol\", 'Willians', 'Smith'],\n",
        "    \"email\": [\"KristenC@gmail.com\", 'Maxine.Williams@email.com', 'JohnSmith@email.com']\n",
        "}\n",
        "\n",
        "people_df = pd.DataFrame(people)"
      ],
      "execution_count": null,
      "outputs": []
    },
    {
      "cell_type": "markdown",
      "metadata": {
        "id": "J9TCAmvncqyK"
      },
      "source": [
        "# Add/Delete Columns"
      ]
    },
    {
      "cell_type": "markdown",
      "metadata": {
        "id": "JTzk54BOAyAQ"
      },
      "source": [
        "**We can create a new column by assigning a `Series` as shown below**"
      ]
    },
    {
      "cell_type": "code",
      "metadata": {
        "id": "AhMd5YjtEJEB"
      },
      "source": [
        "shopping_df"
      ],
      "execution_count": null,
      "outputs": []
    },
    {
      "cell_type": "code",
      "metadata": {
        "id": "m8BOeItYEPo_"
      },
      "source": [
        "pd.Series(['Amazon', 'Flipkart', 'Walmart'])"
      ],
      "execution_count": null,
      "outputs": []
    },
    {
      "cell_type": "code",
      "metadata": {
        "id": "YejuVKJrmJCi"
      },
      "source": [
        "shopping_df['Store'] = pd.Series(['Amazon', 'Flipkart', 'Walmart'])\n",
        "shopping_df"
      ],
      "execution_count": null,
      "outputs": []
    },
    {
      "cell_type": "markdown",
      "metadata": {
        "id": "6oKfOqzvuJ1k"
      },
      "source": [
        "**Creating a new `Series` and adding it to a `DataFrame`**"
      ]
    },
    {
      "cell_type": "code",
      "metadata": {
        "id": "mVjjUIldExLT"
      },
      "source": [
        "people_df"
      ],
      "execution_count": null,
      "outputs": []
    },
    {
      "cell_type": "code",
      "metadata": {
        "id": "csDF3ylzE6FO"
      },
      "source": [
        "(people_df['first'] + ' ' + people_df['last'])"
      ],
      "execution_count": null,
      "outputs": []
    },
    {
      "cell_type": "code",
      "metadata": {
        "id": "oy0HhO8TA2bS"
      },
      "source": [
        "people_df['full_name'] = (people_df['first'] + ' ' + people_df['last'])\n",
        "people_df"
      ],
      "execution_count": null,
      "outputs": []
    },
    {
      "cell_type": "markdown",
      "metadata": {
        "id": "i7uVMAh6HEu9"
      },
      "source": [
        "### Splitting columns\n"
      ]
    },
    {
      "cell_type": "code",
      "metadata": {
        "id": "_Tjy1g5iI19U"
      },
      "source": [
        "people = {\n",
        "    \"full_name\": [\"Jack Smith\", 'Jane Lodge', 'John Doe', 'Kristen Carol'],\n",
        "    \"email\": [\"JackSmith@gmail.com\", 'JaneLodge@email.com', 'JohnDoe@email.com', 'KristenC@email.com']\n",
        "}\n",
        "\n",
        "people_df = pd.DataFrame(people)\n",
        "people_df"
      ],
      "execution_count": null,
      "outputs": []
    },
    {
      "cell_type": "code",
      "metadata": {
        "id": "4lPWlmS6JJRI"
      },
      "source": [
        "people_df['full_name'].str.split(' ')"
      ],
      "execution_count": null,
      "outputs": []
    },
    {
      "cell_type": "code",
      "metadata": {
        "id": "Pa0kug9LJMRZ"
      },
      "source": [
        "people_df['full_name'].str.split(' ', expand=True)"
      ],
      "execution_count": null,
      "outputs": []
    },
    {
      "cell_type": "code",
      "metadata": {
        "id": "CFenfhKPJT1G"
      },
      "source": [
        "people_df[['first', 'last']] = people_df['full_name'].str.split(' ', expand=True)\n",
        "people_df"
      ],
      "execution_count": null,
      "outputs": []
    },
    {
      "cell_type": "markdown",
      "metadata": {
        "id": "J4xwnFPqHLfd"
      },
      "source": [
        "### pd.concat\n",
        "* `pd.concat(objs, axis=0, ignore_index=False, keys=None)`\n",
        "  * Concatenates pandas objects along a particular axis\n",
        "  *   `objs` is a sequence or mapping of Series or DataFrame objects\n",
        "  *  The `axis` to concatenate along.\n",
        "  * If `ignore_index` is True, then it does not use the index values along the concatenation axis. The resulting axis will be labeled 0, …, n - 1.\n"
      ]
    },
    {
      "cell_type": "code",
      "metadata": {
        "id": "yINx6xHTWzTI"
      },
      "source": [
        "people_df"
      ],
      "execution_count": null,
      "outputs": []
    },
    {
      "cell_type": "code",
      "metadata": {
        "id": "YwemYY3lW5nG"
      },
      "source": [
        "age_and_hobbies = {\n",
        "    \"age\": [35, 17, 21, 45],\n",
        "    \"hobbies\": [\"painting\", 'football', 'running', 'fishing']\n",
        "}\n",
        "\n",
        "age_and_hobbies_df = pd.DataFrame(age_and_hobbies)\n",
        "age_and_hobbies_df"
      ],
      "execution_count": null,
      "outputs": []
    },
    {
      "cell_type": "code",
      "metadata": {
        "id": "0Xnow329HLfd"
      },
      "source": [
        "pd.concat([people_df, age_and_hobbies_df], axis=\"columns\")"
      ],
      "execution_count": null,
      "outputs": []
    },
    {
      "cell_type": "markdown",
      "metadata": {
        "id": "d9L_82EhFGc2"
      },
      "source": [
        "**We can also concatenate 2 `series` objects**"
      ]
    },
    {
      "cell_type": "code",
      "metadata": {
        "id": "7-ZxDuvzHLfe"
      },
      "source": [
        "name = np.array(['Alexis', 'Jonathan'])\n",
        "gender = np.array(['Female', 'Male'])\n",
        "\n",
        "name_series = pd.Series(name)\n",
        "gender_series = pd.Series(gender)"
      ],
      "execution_count": null,
      "outputs": []
    },
    {
      "cell_type": "code",
      "metadata": {
        "id": "teLaMHNYHDUY"
      },
      "source": [
        "user_df = pd.concat([name_series, gender_series], axis=1)\n",
        "user_df"
      ],
      "execution_count": null,
      "outputs": []
    },
    {
      "cell_type": "markdown",
      "metadata": {
        "id": "LlexvdASG_lD"
      },
      "source": [
        "**You can also create column names using the `keys` option**"
      ]
    },
    {
      "cell_type": "code",
      "metadata": {
        "id": "E87VhV9yHE-F"
      },
      "source": [
        "user_df = pd.concat([name_series, gender_series], axis=1, keys=['name', 'gender'])\n",
        "user_df"
      ],
      "execution_count": null,
      "outputs": []
    },
    {
      "cell_type": "markdown",
      "metadata": {
        "id": "h7RKjsivHOyx"
      },
      "source": [
        "### pd.DataFrame.drop\n",
        "* `pd.DataFrame.drop(labels=None, axis=0, index=None, columns=None, inplace=False)`\n",
        "  * `labels` is the index or column labels to drop.\n",
        "  *  `axis` specifies the axis to drop the labels from.\n",
        "  * `index` is an alternative to specifying the axis (labels, axis=0 is equivalent to index=labels)\n",
        "  * `columns` is an alternative to specifying the axis (labels, axis=1 is equivalent to columns=labels).\n"
      ]
    },
    {
      "cell_type": "code",
      "metadata": {
        "id": "LdNyF5YpHF1r"
      },
      "source": [
        "shopping_df"
      ],
      "execution_count": null,
      "outputs": []
    },
    {
      "cell_type": "code",
      "metadata": {
        "id": "J7yYN20gLXG6"
      },
      "source": [
        "shopping_df.drop(columns=['Quantity Ordered', 'Purchase Address', 'Store'], inplace=True)"
      ],
      "execution_count": null,
      "outputs": []
    },
    {
      "cell_type": "code",
      "metadata": {
        "id": "qdKZUuzdHeku"
      },
      "source": [
        "shopping_df"
      ],
      "execution_count": null,
      "outputs": []
    },
    {
      "cell_type": "code",
      "metadata": {
        "id": "DePn-tCYzyZ5"
      },
      "source": [
        "# Alternate way of deleting columns\n",
        "shopping_df.drop(labels='Order Date', axis='columns')"
      ],
      "execution_count": null,
      "outputs": []
    },
    {
      "cell_type": "markdown",
      "metadata": {
        "id": "KzfOmYtdhd5u"
      },
      "source": [
        "# Add/Delete Rows"
      ]
    },
    {
      "cell_type": "markdown",
      "metadata": {
        "id": "9w5XvWOGHI4F"
      },
      "source": [
        "### pd.DataFrame.append\n",
        "* `pd.DataFrame.append(other, ignore_index=False, sort=False)`\n",
        "  * Columns in `other` that are not in the dataframe are added as new columns.\n",
        "  *   If `ignore_index` is True, the resulting axis will be labeled 0, 1, …, n - 1.\n",
        "  *  If `sort` is True, then it will sort the columns.\n",
        "\n"
      ]
    },
    {
      "cell_type": "code",
      "metadata": {
        "id": "wYyQ0oPnB0XZ"
      },
      "source": [
        "people = {\n",
        "    \"first\": [\"Jack\", 'Jane', 'John', 'Kristen'],\n",
        "    \"last\": [\"Smith\", 'Lodge', 'Doe', 'Carol'],\n",
        "    \"email\": [\"JackSmith@gmail.com\", 'JaneLodge@email.com', 'JohnDoe@email.com', 'KristenC@email.com']\n",
        "}\n",
        "\n",
        "people_df = pd.DataFrame(people)\n",
        "people_df"
      ],
      "execution_count": null,
      "outputs": []
    },
    {
      "cell_type": "markdown",
      "metadata": {
        "id": "LEd0UhxoNN92"
      },
      "source": [
        "The following line of code throws an error, because we didn't assign an index to the new row."
      ]
    },
    {
      "cell_type": "code",
      "metadata": {
        "id": "Jz4D3YnxLrzh"
      },
      "source": [
        "people_df.append({'first':'Justin', 'last':'Timberlake', 'email': 'Justin.T@gmail.com'})"
      ],
      "execution_count": null,
      "outputs": []
    },
    {
      "cell_type": "markdown",
      "metadata": {
        "id": "14lO1wc5NbRe"
      },
      "source": [
        "**If `ignore_index` is set to `True`, the row will be indexed automatically.**"
      ]
    },
    {
      "cell_type": "code",
      "metadata": {
        "id": "nU2Dhx-yNfRF"
      },
      "source": [
        "people_df.append({'first':'Justin', 'last':'Timberlake', 'email': 'Justin.T@gmail.com'}, ignore_index=True)"
      ],
      "execution_count": null,
      "outputs": []
    },
    {
      "cell_type": "markdown",
      "metadata": {
        "id": "hizN7hVLQWXp"
      },
      "source": [
        "**We can append a dataframe too**"
      ]
    },
    {
      "cell_type": "code",
      "metadata": {
        "id": "DtaQwiNbQg5U"
      },
      "source": [
        "people = {\n",
        "    \"first\": [\"Katy\", 'Thomas'],\n",
        "    \"last\" : [\"Chap\", \"Rogers\"],\n",
        "    \"email\": [\"KatyChap@gmail.com\", 'ThomasRogers@email.com']\n",
        "}\n",
        "\n",
        "people_df_2 = pd.DataFrame(people)\n",
        "people_df_2"
      ],
      "execution_count": null,
      "outputs": []
    },
    {
      "cell_type": "code",
      "metadata": {
        "id": "vjZGJcGjNZQ0"
      },
      "source": [
        "people_df.append(people_df_2, ignore_index=True)"
      ],
      "execution_count": null,
      "outputs": []
    },
    {
      "cell_type": "code",
      "metadata": {
        "id": "eBnz3O4XHI4F"
      },
      "source": [
        "people_df.append(people_df_2, ignore_index=True, sort=True)"
      ],
      "execution_count": null,
      "outputs": []
    },
    {
      "cell_type": "markdown",
      "metadata": {
        "id": "9yFN_tvmlSUp"
      },
      "source": [
        "## pd.DataFrame.drop"
      ]
    },
    {
      "cell_type": "code",
      "metadata": {
        "id": "qguDJwc5IjTS"
      },
      "source": [
        "shopping_df"
      ],
      "execution_count": null,
      "outputs": []
    },
    {
      "cell_type": "code",
      "metadata": {
        "id": "D4lVH0TULowQ"
      },
      "source": [
        "shopping_df.drop(index=[1, 2])"
      ],
      "execution_count": null,
      "outputs": []
    },
    {
      "cell_type": "code",
      "metadata": {
        "id": "gfOitQuWzZNH"
      },
      "source": [
        "shopping_df.drop(labels=[4, 3], axis=\"index\")"
      ],
      "execution_count": null,
      "outputs": []
    },
    {
      "cell_type": "markdown",
      "metadata": {
        "id": "DMpS1SEAE8Eq"
      },
      "source": [
        "We can use drop with Series' too."
      ]
    },
    {
      "cell_type": "code",
      "metadata": {
        "id": "Wa8Dm6CSE7ZV"
      },
      "source": [
        "shopping_df['Product'].drop(labels=[1,2])"
      ],
      "execution_count": null,
      "outputs": []
    },
    {
      "cell_type": "markdown",
      "metadata": {
        "id": "psZalvdxht8F"
      },
      "source": [
        "# Merge DataFrames\n",
        "\n",
        "**`pd.DataFrame.merge(right, on=None)`**\n",
        "  * Returns a DataFrame of the two merged objects.\n",
        "  * `right` is the object to merge with\n",
        "  * `on`: the columns to join on. It must be in both the dataframe objects.\n",
        "\n",
        "**Similar to the SQL JOIN operation**"
      ]
    },
    {
      "cell_type": "code",
      "metadata": {
        "id": "FsyUBuC4JFUR"
      },
      "source": [
        "people = {\n",
        "    \"full_name\": [\"Rama Rao\", 'Kuldeep Yadav'],\n",
        "    \"email\": [\"ramarao@gmail.com\", 'kuldeepy@email.com'],\n",
        "    \"place\" : [\"Hyderabad\", \"Lucknow\"]\n",
        "}\n",
        "\n",
        "df1 = pd.DataFrame(people)\n",
        "df1"
      ],
      "execution_count": null,
      "outputs": []
    },
    {
      "cell_type": "code",
      "metadata": {
        "id": "b_lQFyllJZxE"
      },
      "source": [
        "location = {\n",
        "    \"place\" : [\"Hyderabad\", \"Lucknow\"],\n",
        "    \"state\" : [\"Telangana\", \"Uttar Pradesh\"]\n",
        "}\n",
        "\n",
        "df2 = pd.DataFrame(location)\n",
        "df2"
      ],
      "execution_count": null,
      "outputs": []
    },
    {
      "cell_type": "code",
      "metadata": {
        "id": "A7eXBHsZJflS"
      },
      "source": [
        "df1.merge(df2, on=\"place\")"
      ],
      "execution_count": null,
      "outputs": []
    },
    {
      "cell_type": "code",
      "metadata": {
        "id": "MmbVj8ZNKJZ-"
      },
      "source": [
        "pd.DataFrame.merge?"
      ],
      "execution_count": null,
      "outputs": []
    },
    {
      "cell_type": "markdown",
      "metadata": {
        "id": "cuZ1prhia9Gb"
      },
      "source": [
        "#Sorting\n"
      ]
    },
    {
      "cell_type": "markdown",
      "metadata": {
        "id": "X2A4d8_w15Y2"
      },
      "source": [
        "### pd.DataFrame.sort_values\n",
        "\n",
        "* `pd.DataFrame.sort_values(by, axis=0, ascending=True, inplace=False,  ignore_index=False)`\n",
        "  * Sort by the values along either axis.\n",
        "  * `by` is the name or list of names to sort by.\n",
        "  * `axis`is the axis to be sorted\n",
        "  * If `ignore_index` is True, then the resulting axis will be labeled 0, 1, …, n - 1."
      ]
    },
    {
      "cell_type": "code",
      "metadata": {
        "id": "_z2RMGw9KXcq"
      },
      "source": [
        "films_df"
      ],
      "execution_count": null,
      "outputs": []
    },
    {
      "cell_type": "code",
      "metadata": {
        "id": "hNHaGjhgArKw"
      },
      "source": [
        "films_df.sort_values(by='Year')"
      ],
      "execution_count": null,
      "outputs": []
    },
    {
      "cell_type": "code",
      "metadata": {
        "id": "j3Hqcn35Az3M"
      },
      "source": [
        "films_df.sort_values(by='Popularity', ascending=False)"
      ],
      "execution_count": null,
      "outputs": []
    },
    {
      "cell_type": "code",
      "metadata": {
        "id": "JUFdqWp_K7zj"
      },
      "source": [
        "pd.DataFrame.sort_values?"
      ],
      "execution_count": null,
      "outputs": []
    },
    {
      "cell_type": "code",
      "metadata": {
        "id": "dm-pobi0A-Na"
      },
      "source": [
        "films_df.sort_values(by='Popularity', ascending=False, ignore_index=True)"
      ],
      "execution_count": null,
      "outputs": []
    },
    {
      "cell_type": "code",
      "metadata": {
        "id": "JT42oUX0BGEN"
      },
      "source": [
        "films_df.sort_values(by=['Year', 'Popularity'], ascending=[True, False])"
      ],
      "execution_count": null,
      "outputs": []
    },
    {
      "cell_type": "markdown",
      "metadata": {
        "id": "KYvv7iVfCK-P"
      },
      "source": [
        "We can use `sort_values` with Series' too."
      ]
    },
    {
      "cell_type": "code",
      "metadata": {
        "id": "m9SO1QzYBbdd"
      },
      "source": [
        "films_df['Length'].sort_values(ascending=False)"
      ],
      "execution_count": null,
      "outputs": []
    },
    {
      "cell_type": "markdown",
      "metadata": {
        "id": "bXQCsr7UCtgK"
      },
      "source": [
        "### NLargest and NSmallest"
      ]
    },
    {
      "cell_type": "markdown",
      "metadata": {
        "id": "4s584tlOEIqQ"
      },
      "source": [
        "**nlargest** returns the first n rows ordered by columns in descending order."
      ]
    },
    {
      "cell_type": "code",
      "metadata": {
        "id": "e1y5FEgALzdS"
      },
      "source": [
        "films_df['Length']"
      ],
      "execution_count": null,
      "outputs": []
    },
    {
      "cell_type": "code",
      "metadata": {
        "id": "tJ9jz1LYCxHD"
      },
      "source": [
        "films_df['Length'].nlargest(10)"
      ],
      "execution_count": null,
      "outputs": []
    },
    {
      "cell_type": "code",
      "metadata": {
        "id": "fzYthAPzDRM7"
      },
      "source": [
        "films_df.nlargest(15, ['Popularity', 'Length'])"
      ],
      "execution_count": null,
      "outputs": []
    },
    {
      "cell_type": "markdown",
      "metadata": {
        "id": "GGEOKdeqEPIH"
      },
      "source": [
        "**nsmallest** returns the first n rows ordered by columns in ascending order."
      ]
    },
    {
      "cell_type": "code",
      "metadata": {
        "id": "_E7hGR-nDMjz"
      },
      "source": [
        "films_df['Year'].nsmallest(5)"
      ],
      "execution_count": null,
      "outputs": []
    },
    {
      "cell_type": "code",
      "metadata": {
        "id": "HY-qnoGDD0Wm"
      },
      "source": [
        "films_df.nsmallest(5, 'Length')"
      ],
      "execution_count": null,
      "outputs": []
    },
    {
      "cell_type": "markdown",
      "metadata": {
        "id": "cGNHIrYl-qhz"
      },
      "source": [
        "# Try It Yourself"
      ]
    },
    {
      "cell_type": "markdown",
      "metadata": {
        "id": "Itj-2htKdtGC"
      },
      "source": [
        "For the following questions, use the **Covid** dataset.\n",
        "\n",
        "0.  Load the dataset into a dataframe using `read_csv`\n",
        "1.  Add a row to the dataset, containing stats for September 5th.\n",
        "2.  Sort the dataset in ascending order of `date` and descending order of `new_cases`.\n",
        "3. Get the top 15 days with the largest number of new_cases.\n",
        "4. Drop the `new_deaths` and `new_tests` columns of the dataset.\n",
        "5. Drop the first 5 rows of the dataset.\n"
      ]
    }
  ]
}