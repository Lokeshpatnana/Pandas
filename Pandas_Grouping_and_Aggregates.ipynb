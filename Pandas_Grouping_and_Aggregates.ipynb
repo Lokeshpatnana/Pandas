{
  "nbformat": 4,
  "nbformat_minor": 0,
  "metadata": {
    "colab": {
      "provenance": [],
      "toc_visible": true,
      "include_colab_link": true
    },
    "kernelspec": {
      "name": "python3",
      "display_name": "Python 3"
    }
  },
  "cells": [
    {
      "cell_type": "markdown",
      "metadata": {
        "id": "view-in-github",
        "colab_type": "text"
      },
      "source": [
        "<a href=\"https://colab.research.google.com/github/Lokeshpatnana/Pandas/blob/main/Pandas_Grouping_and_Aggregates.ipynb\" target=\"_parent\"><img src=\"https://colab.research.google.com/assets/colab-badge.svg\" alt=\"Open In Colab\"/></a>"
      ]
    },
    {
      "cell_type": "code",
      "metadata": {
        "id": "XtyPJLjoEyUS"
      },
      "source": [
        "import pandas as pd\n",
        "import numpy as np"
      ],
      "execution_count": null,
      "outputs": []
    },
    {
      "cell_type": "markdown",
      "metadata": {
        "id": "9AF3vu8QRfcB"
      },
      "source": [
        "# Downloading and Loading Datasets\n",
        "Downloading all the required csv files and loading the data into the dataframes"
      ]
    },
    {
      "cell_type": "code",
      "metadata": {
        "id": "g3OjByf8RfcB"
      },
      "source": [
        "# eCommerce Dataset\n",
        "!wget https://nkb-backend-otg-media-static.s3.ap-south-1.amazonaws.com/otg_prod/media/Tech_4.0/AI_ML/Datasets/shopping_data.csv\n",
        "\n",
        "shopping_df = pd.read_csv('shopping_data.csv')"
      ],
      "execution_count": null,
      "outputs": []
    },
    {
      "cell_type": "code",
      "metadata": {
        "id": "LIYeqaK_M8wZ"
      },
      "source": [
        "# Covid Dataset\n",
        "!wget https://nkb-backend-otg-media-static.s3.ap-south-1.amazonaws.com/otg_prod/media/Tech_4.0/AI_ML/Datasets/italy-covid-daywise.csv\n",
        "\n",
        "covid_df = pd.read_csv('italy-covid-daywise.csv')"
      ],
      "execution_count": null,
      "outputs": []
    },
    {
      "cell_type": "code",
      "metadata": {
        "id": "pNKwxH46M8lC"
      },
      "source": [
        "# Stackoverflow Survey Dataset\n",
        "!wget https://nkb-backend-otg-media-static.s3.ap-south-1.amazonaws.com/otg_prod/media/Tech_4.0/AI_ML/Datasets/survey_results_public.csv\n",
        "\n",
        "survey_df = pd.read_csv('survey_results_public.csv')"
      ],
      "execution_count": null,
      "outputs": []
    },
    {
      "cell_type": "code",
      "metadata": {
        "id": "2PuJZuRAM8Za"
      },
      "source": [
        "# Film Dataset\n",
        "!wget https://nkb-backend-otg-media-static.s3.ap-south-1.amazonaws.com/otg_prod/media/Tech_4.0/AI_ML/Datasets/film.csv\n",
        "\n",
        "films_df = pd.read_csv('film.csv')"
      ],
      "execution_count": null,
      "outputs": []
    },
    {
      "cell_type": "markdown",
      "metadata": {
        "id": "rNJ3vB3FasN-"
      },
      "source": [
        "# Grouping"
      ]
    },
    {
      "cell_type": "markdown",
      "metadata": {
        "id": "cqEeCmUgEql-"
      },
      "source": [
        "### pd.DataFrame.group_by\n",
        "* `pd.DataFrame.group_by(by=None, axis=0, sort=True, dropna=True)`\n",
        "  *   `by` is used to determine the groups.\n",
        "  *   `axis` specifies whether to split across rows or columns.\n",
        "\n"
      ]
    },
    {
      "cell_type": "code",
      "metadata": {
        "id": "qIO6ZOi8P-1Z"
      },
      "source": [
        "shopping_df"
      ],
      "execution_count": null,
      "outputs": []
    },
    {
      "cell_type": "code",
      "metadata": {
        "id": "9rk3_rRYUhqN"
      },
      "source": [
        "product_grp = shopping_df.groupby(['Product'])\n",
        "product_grp"
      ],
      "execution_count": null,
      "outputs": []
    },
    {
      "cell_type": "code",
      "metadata": {
        "id": "wA0DUQiwQjVK"
      },
      "source": [
        "product_grp.groups"
      ],
      "execution_count": null,
      "outputs": []
    },
    {
      "cell_type": "code",
      "metadata": {
        "id": "FiL9mHdUUqUZ"
      },
      "source": [
        "product_grp.get_group('Macbook Pro Laptop')"
      ],
      "execution_count": null,
      "outputs": []
    },
    {
      "cell_type": "code",
      "metadata": {
        "id": "eaZ-GLoZOsmY"
      },
      "source": [
        "type(product_grp.get_group('Macbook Pro Laptop'))"
      ],
      "execution_count": null,
      "outputs": []
    },
    {
      "cell_type": "code",
      "metadata": {
        "id": "-73naNTIQCKm"
      },
      "source": [
        "films_df"
      ],
      "execution_count": null,
      "outputs": []
    },
    {
      "cell_type": "code",
      "metadata": {
        "id": "SRs07mJOcpvn"
      },
      "source": [
        "films_group = films_df.groupby(['Subject', 'Year'])"
      ],
      "execution_count": null,
      "outputs": []
    },
    {
      "cell_type": "code",
      "metadata": {
        "id": "YIMBlMUMX9Cq"
      },
      "source": [
        "films_group.groups"
      ],
      "execution_count": null,
      "outputs": []
    },
    {
      "cell_type": "markdown",
      "metadata": {
        "id": "-rpawmR8eKun"
      },
      "source": [
        "**By default `dropna` is True, so group keys containing `NaN` values are dropped along with the row/column.**"
      ]
    },
    {
      "cell_type": "code",
      "metadata": {
        "id": "XPGNcTkLdsmH"
      },
      "source": [
        "values = [[1, 2, 3], [1, None, 4], [2, 1, 3], [1, 2, 2]]\n",
        "numeric_df = pd.DataFrame(values, columns=[\"a\", \"b\", \"c\"])\n",
        "numeric_df"
      ],
      "execution_count": null,
      "outputs": []
    },
    {
      "cell_type": "code",
      "metadata": {
        "id": "EfaVX1Nsd5di"
      },
      "source": [
        "grp_b = numeric_df.groupby(by=[\"b\"])\n",
        "grp_b.groups"
      ],
      "execution_count": null,
      "outputs": []
    },
    {
      "cell_type": "markdown",
      "metadata": {
        "id": "aEc7e2k9Zsre"
      },
      "source": [
        "# Aggregations\n",
        "\n",
        "* Aggregation operations are **always performed over an axis**, either the index (default) or the column axis.\n",
        "* This behavior is **different from numpy aggregation functions** (mean, median, prod, sum, std, var), where the default is to compute the aggregation of the flattened array, e.g., numpy.mean(arr_2d) as opposed to\n",
        "numpy.mean(arr_2d, axis=0)."
      ]
    },
    {
      "cell_type": "code",
      "metadata": {
        "id": "o9DBS4GKQbmI"
      },
      "source": [
        "numeric_df"
      ],
      "execution_count": null,
      "outputs": []
    },
    {
      "cell_type": "code",
      "metadata": {
        "id": "B9JbOW1C7V4b"
      },
      "source": [
        "numeric_df.mean()"
      ],
      "execution_count": null,
      "outputs": []
    },
    {
      "cell_type": "code",
      "metadata": {
        "id": "i4YW_50qZ-vs"
      },
      "source": [
        "print('mean of prices:', shopping_df['Price Each'].mean())\n",
        "print('median of prices:', shopping_df['Price Each'].median())\n",
        "print('maximum of prices:', shopping_df['Price Each'].max())\n",
        "print('total number of products:', shopping_df['Product'].count())"
      ],
      "execution_count": null,
      "outputs": []
    },
    {
      "cell_type": "markdown",
      "metadata": {
        "id": "8o1UwYSHRKdt"
      },
      "source": [
        "### `pd.DataFrame.value_counts`\n",
        "Can be used to count the number of times each value is repeated."
      ]
    },
    {
      "cell_type": "code",
      "metadata": {
        "id": "LJ8xtX3gTHYr"
      },
      "source": [
        "shopping_df['Product'].unique()"
      ],
      "execution_count": null,
      "outputs": []
    },
    {
      "cell_type": "code",
      "metadata": {
        "id": "3_Gp-LP849n8"
      },
      "source": [
        "print('count of each distinct product:\\n', shopping_df['Product'].value_counts())"
      ],
      "execution_count": null,
      "outputs": []
    },
    {
      "cell_type": "markdown",
      "metadata": {
        "id": "xPEIUvuW4UjP"
      },
      "source": [
        "**If `normalize=True` then the object returned will contain the relative frequencies of the unique values.**"
      ]
    },
    {
      "cell_type": "code",
      "metadata": {
        "id": "LUqE23TO4bw9"
      },
      "source": [
        "shopping_df['Product'].value_counts(normalize=True)"
      ],
      "execution_count": null,
      "outputs": []
    },
    {
      "cell_type": "markdown",
      "metadata": {
        "id": "gEmCJ-q8TMX3"
      },
      "source": [
        "### Applying aggregations on groups"
      ]
    },
    {
      "cell_type": "code",
      "metadata": {
        "id": "BCUwYxcmT2oF"
      },
      "source": [
        "shopping_df"
      ],
      "execution_count": null,
      "outputs": []
    },
    {
      "cell_type": "code",
      "metadata": {
        "id": "TzD7_mL3SmWq"
      },
      "source": [
        "iphone_filter = (shopping_df['Product'] == \"iPhone\")\n",
        "shopping_df[iphone_filter][\"Price Each\"].median()"
      ],
      "execution_count": null,
      "outputs": []
    },
    {
      "cell_type": "code",
      "metadata": {
        "id": "BqNmIkv1-zO-"
      },
      "source": [
        "shopping_df.groupby('Product')[\"Price Each\"].median()"
      ],
      "execution_count": null,
      "outputs": []
    },
    {
      "cell_type": "code",
      "metadata": {
        "id": "MIhZuKyk8nhy"
      },
      "source": [
        "shopping_df.groupby('Product').median()"
      ],
      "execution_count": null,
      "outputs": []
    },
    {
      "cell_type": "markdown",
      "metadata": {
        "id": "wl758hHiahE5"
      },
      "source": [
        "Effectively, *shopping_df* is\n",
        "1. Split into groups based on *Product*\n",
        "2. `median` function is applied to each group\n",
        "3. The results from each group are combined into a `DataFrame`\n",
        "\n",
        "\n"
      ]
    },
    {
      "cell_type": "code",
      "metadata": {
        "id": "Ia0as498Vibs"
      },
      "source": [
        "films_df"
      ],
      "execution_count": null,
      "outputs": []
    },
    {
      "cell_type": "code",
      "metadata": {
        "id": "Cm-1VsLAL7n0"
      },
      "source": [
        "films_df.groupby('Director')['Popularity'].mean()"
      ],
      "execution_count": null,
      "outputs": []
    },
    {
      "cell_type": "code",
      "metadata": {
        "id": "MoR2FXaXLlxl"
      },
      "source": [
        "films_df.groupby('Director')['Popularity'].mean().loc['Alda, Alan']"
      ],
      "execution_count": null,
      "outputs": []
    },
    {
      "cell_type": "markdown",
      "metadata": {
        "id": "I_FHxOsOUhRa"
      },
      "source": [
        "### Using aggregations with filters"
      ]
    },
    {
      "cell_type": "code",
      "metadata": {
        "id": "XigJuFjyWBT9"
      },
      "source": [
        "shopping_df"
      ],
      "execution_count": null,
      "outputs": []
    },
    {
      "cell_type": "code",
      "metadata": {
        "id": "tegb_CeJA0PD"
      },
      "source": [
        "filt = (shopping_df['Product'] == \"Flatscreen TV\")\n",
        "shopping_df.loc[filt]['Purchase Address'].str.contains('CA')"
      ],
      "execution_count": null,
      "outputs": []
    },
    {
      "cell_type": "markdown",
      "metadata": {
        "id": "rYVbr6mZM2s6"
      },
      "source": [
        "Here, `sum` will give the number of True values"
      ]
    },
    {
      "cell_type": "code",
      "metadata": {
        "id": "7sR3dInkMy5d"
      },
      "source": [
        "shopping_df.loc[filt]['Purchase Address'].str.contains('CA').sum()"
      ],
      "execution_count": null,
      "outputs": []
    },
    {
      "cell_type": "markdown",
      "metadata": {
        "id": "tYNNL2P65khL"
      },
      "source": [
        "### pd.DataFrame.aggregate\n",
        "* `pd.DataFrame.aggregrate(func=None, axis=0, *args, **kwargs)`\n",
        "  *   `func` is the function to use for aggregating the data.\n",
        "  *   `axis` specifices whether to apply the function to each row or each column.\n",
        "  *  `*args` are the positional arguments to pass to func.\n",
        "  *  `**kwargs` are the keyword arguments to pass to func.\n",
        "  *  *agg* is an alias for *aggregate*.\n",
        "\n"
      ]
    },
    {
      "cell_type": "code",
      "metadata": {
        "id": "NCzV53op2OUf"
      },
      "source": [
        "df = pd.DataFrame([[1, 2, 3],\n",
        "                   [4, 5, 6],\n",
        "                   [7, 8, 9]],\n",
        "                  columns=['A', 'B', 'C'])\n",
        "df"
      ],
      "execution_count": null,
      "outputs": []
    },
    {
      "cell_type": "code",
      "metadata": {
        "id": "edWWMEYsX0i3"
      },
      "source": [
        "df.mean()"
      ],
      "execution_count": null,
      "outputs": []
    },
    {
      "cell_type": "code",
      "metadata": {
        "id": "ssriHfhF8DQ0"
      },
      "source": [
        "df.agg(['mean'])"
      ],
      "execution_count": null,
      "outputs": []
    },
    {
      "cell_type": "code",
      "metadata": {
        "id": "fQ5JVf812Krg"
      },
      "source": [
        "df.agg(['sum', 'min', 'mean'])"
      ],
      "execution_count": null,
      "outputs": []
    },
    {
      "cell_type": "code",
      "metadata": {
        "id": "3H_nykSp2Jfr"
      },
      "source": [
        "year_grp = films_df.groupby('Year')\n",
        "year_grp['Popularity'].agg(['median', 'mean'])"
      ],
      "execution_count": null,
      "outputs": []
    },
    {
      "cell_type": "code",
      "metadata": {
        "id": "l8odDexUHMMf"
      },
      "source": [
        "shopping_df"
      ],
      "execution_count": null,
      "outputs": []
    },
    {
      "cell_type": "code",
      "metadata": {
        "id": "RCRe4hEV7P91"
      },
      "source": [
        "product_grp = shopping_df.groupby('Product')\n",
        "product_grp['Price Each'].agg(['median', 'mean']).loc['Flatscreen TV']"
      ],
      "execution_count": null,
      "outputs": []
    },
    {
      "cell_type": "code",
      "metadata": {
        "id": "RHZh9pkAVBG5"
      },
      "source": [
        "filt = (shopping_df['Product'] == \"Flatscreen TV\")\n",
        "shopping_df.loc[filt]['Purchase Address'].str.contains('CA').sum()"
      ],
      "execution_count": null,
      "outputs": []
    },
    {
      "cell_type": "markdown",
      "metadata": {
        "id": "TBXaJVKyHlI_"
      },
      "source": [
        "The following code throws an error because `product_grp['Purchase Address']` is not a `Series` object.  \n",
        "It is a `SeriesGroupBy` object."
      ]
    },
    {
      "cell_type": "code",
      "metadata": {
        "id": "d9YUJRuJC4Fe"
      },
      "source": [
        "product_grp = shopping_df.groupby('Product')\n",
        "product_grp['Purchase Address'].str.contains('CA').sum()"
      ],
      "execution_count": null,
      "outputs": []
    },
    {
      "cell_type": "code",
      "metadata": {
        "id": "IFBLeGqYIPVA"
      },
      "source": [
        "type(product_grp['Purchase Address'])"
      ],
      "execution_count": null,
      "outputs": []
    },
    {
      "cell_type": "markdown",
      "metadata": {
        "id": "hRLqOkLg__1g"
      },
      "source": [
        "**Use the `.apply` method on `SeriesGroupBy` objects**"
      ]
    },
    {
      "cell_type": "code",
      "metadata": {
        "id": "p9T9iiBODJpU"
      },
      "source": [
        "product_grp['Purchase Address'].apply(lambda x: x.str.contains('CA').sum())"
      ],
      "execution_count": null,
      "outputs": []
    },
    {
      "cell_type": "markdown",
      "metadata": {
        "id": "spqkAaMrZaMa"
      },
      "source": [
        "### pd.DataFrame.cumsum\n",
        "\n",
        "* `pd.DataFrame.cumsum(axis=None, skipna=True)`\n",
        "\n",
        "  * Returns the cumulative sum of a `Series` or `DataFrame`."
      ]
    },
    {
      "cell_type": "markdown",
      "metadata": {
        "id": "SBPkSOypbavq"
      },
      "source": [
        "#### Series"
      ]
    },
    {
      "cell_type": "markdown",
      "metadata": {
        "id": "uKJiEMMPa3NL"
      },
      "source": [
        "* By default, `NaN` values are ignored."
      ]
    },
    {
      "cell_type": "code",
      "metadata": {
        "id": "-JYhNaimZPc-"
      },
      "source": [
        "series = pd.Series([3, np.nan, 4, -6, 0])\n",
        "series"
      ],
      "execution_count": null,
      "outputs": []
    },
    {
      "cell_type": "code",
      "metadata": {
        "id": "PQITvV_6ZYP_"
      },
      "source": [
        "series.cumsum()"
      ],
      "execution_count": null,
      "outputs": []
    },
    {
      "cell_type": "markdown",
      "metadata": {
        "id": "3C_BrmhabU4V"
      },
      "source": [
        "#### Dataframe\n",
        "* By default, it iterates over the rows and finds the sum in each column.\n",
        "* This is equivalent to `axis=None` or `axis='index'`."
      ]
    },
    {
      "cell_type": "code",
      "metadata": {
        "id": "9YSOh6d8bYG4"
      },
      "source": [
        "df = pd.DataFrame({\n",
        "    \"A\":[1.0, -3.0, 2.0],\n",
        "    \"B\" : [1.0, np.nan, 0.0],\n",
        "    \"C\" : [3.0, -2.0, -1.1]\n",
        "})\n",
        "\n",
        "df"
      ],
      "execution_count": null,
      "outputs": []
    },
    {
      "cell_type": "code",
      "metadata": {
        "id": "IG0Jbj7pcJJi"
      },
      "source": [
        "df.cumsum()"
      ],
      "execution_count": null,
      "outputs": []
    },
    {
      "cell_type": "markdown",
      "metadata": {
        "id": "HgtjH2cBcnOf"
      },
      "source": [
        "**To iterate over columns and find the sum in each row, use `axis=1`.**"
      ]
    },
    {
      "cell_type": "code",
      "metadata": {
        "id": "A3Yuipqgcury"
      },
      "source": [
        "df.cumsum(axis=1)"
      ],
      "execution_count": null,
      "outputs": []
    },
    {
      "cell_type": "markdown",
      "metadata": {
        "id": "-x69DsBPMnOs"
      },
      "source": [
        "# Try It Yourself"
      ]
    },
    {
      "cell_type": "markdown",
      "metadata": {
        "id": "w03spf8MMlPm"
      },
      "source": [
        "\n",
        "For the following questions, use the **Film** dataset.\n",
        "1.   Find the average number of movies released each year with the `subject` comedy .\n",
        "2.   Get the median `length` of the films released in `1990`.\n",
        "3.   Find the number of movies each unique set of actors (present in the `Actor` column) acted in.\n",
        "\n",
        "For the following questions, use the **Covid** dataset.\n",
        "4.  Find the cumulative sum of the `total cases` reported.\n",
        "5.  Find the total number of deaths reported.  \n"
      ]
    }
  ]
}