{
  "nbformat": 4,
  "nbformat_minor": 0,
  "metadata": {
    "colab": {
      "provenance": [],
      "include_colab_link": true
    },
    "kernelspec": {
      "name": "python3",
      "display_name": "Python 3"
    }
  },
  "cells": [
    {
      "cell_type": "markdown",
      "metadata": {
        "id": "view-in-github",
        "colab_type": "text"
      },
      "source": [
        "<a href=\"https://colab.research.google.com/github/Lokeshpatnana/Pandas/blob/main/Pandas_Modifying_DataFrames_and_Series.ipynb\" target=\"_parent\"><img src=\"https://colab.research.google.com/assets/colab-badge.svg\" alt=\"Open In Colab\"/></a>"
      ]
    },
    {
      "cell_type": "code",
      "metadata": {
        "id": "XtyPJLjoEyUS"
      },
      "source": [
        "import pandas as pd\n",
        "import numpy as np"
      ],
      "execution_count": null,
      "outputs": []
    },
    {
      "cell_type": "markdown",
      "metadata": {
        "id": "9AF3vu8QRfcB"
      },
      "source": [
        "# Downloading and Loading Datasets\n",
        "Downloading all the required csv files and loading the data into the dataframes"
      ]
    },
    {
      "cell_type": "code",
      "metadata": {
        "id": "g3OjByf8RfcB"
      },
      "source": [
        "# eCommerce Dataset\n",
        "!wget https://nkb-backend-otg-media-static.s3.ap-south-1.amazonaws.com/otg_prod/media/Tech_4.0/AI_ML/Datasets/shopping_data_v2.csv\n",
        "\n",
        "shopping_df = pd.read_csv('shopping_data_v2.csv')"
      ],
      "execution_count": null,
      "outputs": []
    },
    {
      "cell_type": "code",
      "metadata": {
        "id": "LIYeqaK_M8wZ"
      },
      "source": [
        "# Covid Dataset\n",
        "!wget https://nkb-backend-otg-media-static.s3.ap-south-1.amazonaws.com/otg_prod/media/Tech_4.0/AI_ML/Datasets/italy-covid-daywise.csv\n",
        "\n",
        "covid_df = pd.read_csv('italy-covid-daywise.csv')"
      ],
      "execution_count": null,
      "outputs": []
    },
    {
      "cell_type": "code",
      "metadata": {
        "id": "pNKwxH46M8lC"
      },
      "source": [
        "# Stackoverflow Survey Dataset\n",
        "!wget https://nkb-backend-otg-media-static.s3.ap-south-1.amazonaws.com/otg_prod/media/Tech_4.0/AI_ML/Datasets/survey_results_public.csv\n",
        "\n",
        "survey_df = pd.read_csv('survey_results_public.csv')"
      ],
      "execution_count": null,
      "outputs": []
    },
    {
      "cell_type": "code",
      "metadata": {
        "id": "2PuJZuRAM8Za"
      },
      "source": [
        "# Film Dataset\n",
        "!wget https://nkb-backend-otg-media-static.s3.ap-south-1.amazonaws.com/otg_prod/media/Tech_4.0/AI_ML/Datasets/film.csv\n",
        "\n",
        "films_df = pd.read_csv('film.csv')"
      ],
      "execution_count": null,
      "outputs": []
    },
    {
      "cell_type": "markdown",
      "metadata": {
        "id": "6nqm2naoxDnv"
      },
      "source": [
        "# Modifying Column Names"
      ]
    },
    {
      "cell_type": "code",
      "metadata": {
        "id": "PCVSDNqAkPZW"
      },
      "source": [
        "people = {\n",
        "    \"First Name\": [\"Kristen\", 'Maxine', 'John'],\n",
        "    \"Last Name\": [\"Carol\", 'Willians', 'Smith'],\n",
        "    \"Email ID\": [\"KristenC@gmail.com\", 'Maxine.Williams@email.com', 'JohnSmith@email.com']\n",
        "}"
      ],
      "execution_count": null,
      "outputs": []
    },
    {
      "cell_type": "code",
      "metadata": {
        "id": "gPZfwZWqkPgY"
      },
      "source": [
        "people_df = pd.DataFrame(people)\n",
        "people_df"
      ],
      "execution_count": null,
      "outputs": []
    },
    {
      "cell_type": "code",
      "metadata": {
        "id": "BwGtWB2WFdml"
      },
      "source": [
        "people_df.columns"
      ],
      "execution_count": null,
      "outputs": []
    },
    {
      "cell_type": "code",
      "metadata": {
        "id": "wElIg9xoFtiv"
      },
      "source": [
        "people_df.columns = [\"F Name\", \"L Name\", \"Email\"]\n",
        "people_df"
      ],
      "execution_count": null,
      "outputs": []
    },
    {
      "cell_type": "code",
      "metadata": {
        "id": "oGF38qNsGuWC"
      },
      "source": [
        "people_df.columns = people_df.columns.str.replace(' ', '_')\n",
        "people_df"
      ],
      "execution_count": null,
      "outputs": []
    },
    {
      "cell_type": "code",
      "metadata": {
        "id": "XwDuQqo-6JX0"
      },
      "source": [
        "people_df.columns = [x.lower() for x in people_df]\n",
        "people_df"
      ],
      "execution_count": null,
      "outputs": []
    },
    {
      "cell_type": "markdown",
      "metadata": {
        "id": "4mFmqcQfECka"
      },
      "source": [
        "### pd.DataFrame.rename\n",
        "* `pd.DataFrame.rename(mapper=None, index=None, columns=None, axis=None, inplace=False)`\n",
        "  *   `mapper` is the dict-like or functions transformations to apply to that axis’ values.\n",
        "  *   `axis` is the axis to target with mapper.\n",
        "  *   `index` is an alternative to specifying axis (mapper, axis=0 is equivalent to index=mapper)\n",
        "  *  `columns` is an alternative to specifying axis (mapper, axis=1 is equivalent to columns=mapper)\n",
        "\n"
      ]
    },
    {
      "cell_type": "code",
      "metadata": {
        "id": "H5RTF7eeGMjo"
      },
      "source": [
        "shopping_df"
      ],
      "execution_count": null,
      "outputs": []
    },
    {
      "cell_type": "code",
      "metadata": {
        "id": "bOVV-TXxECkc"
      },
      "source": [
        "shopping_df.rename(columns={'Price Each':'Price', 'Product':'Product Name'})"
      ],
      "execution_count": null,
      "outputs": []
    },
    {
      "cell_type": "code",
      "metadata": {
        "id": "pMxLSlmnECkb"
      },
      "source": [
        "# Alternate way of renaming columns\n",
        "shopping_df.rename(mapper={'Price Each':'Price', 'Product':'Product Name'}, axis=1)"
      ],
      "execution_count": null,
      "outputs": []
    },
    {
      "cell_type": "markdown",
      "metadata": {
        "id": "4aNxiXoHHOMD"
      },
      "source": [
        "**After carefully checking the changes, use `inplace=True` to make the changes reflect in the actual dataframe.**"
      ]
    },
    {
      "cell_type": "code",
      "metadata": {
        "id": "yRraACCCHbEc"
      },
      "source": [
        "shopping_df.rename(columns={'Price Each':'Price', 'Product':'Product Name'}, inplace=True)"
      ],
      "execution_count": null,
      "outputs": []
    },
    {
      "cell_type": "code",
      "metadata": {
        "id": "JvZJzW_hHgxC"
      },
      "source": [
        "shopping_df"
      ],
      "execution_count": null,
      "outputs": []
    },
    {
      "cell_type": "markdown",
      "metadata": {
        "id": "VNdtdWe-xFtJ"
      },
      "source": [
        "# Modifying Rows"
      ]
    },
    {
      "cell_type": "markdown",
      "metadata": {
        "id": "jznlXdYsJKFb"
      },
      "source": [
        "Trying to update a value as shown below will raise an error. Instead, **values should be updated using `loc` or `iloc`.**"
      ]
    },
    {
      "cell_type": "code",
      "metadata": {
        "id": "QMitYpd_FEyJ"
      },
      "source": [
        "filt = (people_df['email'] == 'KristenC@gmail.com')\n",
        "people_df[filt]['last_name'] = 'Smith'"
      ],
      "execution_count": null,
      "outputs": []
    },
    {
      "cell_type": "code",
      "metadata": {
        "id": "kuQgaJV0Gvih"
      },
      "source": [
        "people_df"
      ],
      "execution_count": null,
      "outputs": []
    },
    {
      "cell_type": "markdown",
      "metadata": {
        "id": "phr67PdRDI3-"
      },
      "source": [
        "### Updating values with `loc`"
      ]
    },
    {
      "cell_type": "code",
      "metadata": {
        "id": "MmECC62OSzyx"
      },
      "source": [
        "people_df.loc[1] = ['Will', 'Tatum', 'Will.T@gmail.com']\n",
        "people_df"
      ],
      "execution_count": null,
      "outputs": []
    },
    {
      "cell_type": "code",
      "metadata": {
        "id": "g3s0kTq0DI3_"
      },
      "source": [
        "people_df.loc[2, ['f_name', 'email']] = ['Johnny', 'JohnnySmith@email.com']\n",
        "people_df"
      ],
      "execution_count": null,
      "outputs": []
    },
    {
      "cell_type": "code",
      "metadata": {
        "id": "aFDFxad8DI4A"
      },
      "source": [
        "people_df.loc[[1, 2], ['f_name']] = 'Apple'\n",
        "people_df"
      ],
      "execution_count": null,
      "outputs": []
    },
    {
      "cell_type": "markdown",
      "metadata": {
        "id": "IerzDzcvxIm8"
      },
      "source": [
        "# Methods to Update Data"
      ]
    },
    {
      "cell_type": "markdown",
      "metadata": {
        "id": "2Yu-_SULbtP0"
      },
      "source": [
        "### pd.Series.apply\n",
        "* `pd.Series.apply(func, convert_dtype=True, args=(), **kwds)`\n",
        "  *   Applies the function on the values in the Series.\n",
        "  *   `func` is the Python function or NumPy ufunc to apply.\n",
        "  *   `args` are the positional arguments passed to func after the series value.\n",
        "  *  `**kwds` are the additional keyword arguments passed to func."
      ]
    },
    {
      "cell_type": "code",
      "metadata": {
        "id": "V2q8KoZ9GgYT"
      },
      "source": [
        "def change_product_name(product_name):\n",
        "  new_name = product_name.lower()\n",
        "  new_name = new_name.replace(\" \", \"_\")\n",
        "  return new_name"
      ],
      "execution_count": null,
      "outputs": []
    },
    {
      "cell_type": "code",
      "metadata": {
        "id": "wal7-YW6-kKu"
      },
      "source": [
        "shopping_df[\"Product Name\"].apply(change_product_name)"
      ],
      "execution_count": null,
      "outputs": []
    },
    {
      "cell_type": "markdown",
      "metadata": {
        "id": "RKulw8xxITc2"
      },
      "source": [
        "**Can also use lambda functions**"
      ]
    },
    {
      "cell_type": "code",
      "metadata": {
        "id": "-0Uoo9mb-LXX"
      },
      "source": [
        "shopping_df[\"Price\"].apply(lambda x: x + 5)"
      ],
      "execution_count": null,
      "outputs": []
    },
    {
      "cell_type": "code",
      "metadata": {
        "id": "7h4ueIztHb4i"
      },
      "source": [
        "shopping_df[\"Product\"].apply(len)"
      ],
      "execution_count": null,
      "outputs": []
    },
    {
      "cell_type": "markdown",
      "metadata": {
        "id": "s2mExaQS_Lpk"
      },
      "source": [
        "Apply can be used directly with dataframes too. But, the Objects passed to the function are `Series` objects"
      ]
    },
    {
      "cell_type": "code",
      "metadata": {
        "id": "VicxLYj7Hg_V"
      },
      "source": [
        "shopping_df.apply(len)"
      ],
      "execution_count": null,
      "outputs": []
    },
    {
      "cell_type": "markdown",
      "metadata": {
        "id": "KFI2hiJOqlX0"
      },
      "source": [
        "### pd.DataFrame.applymap\n",
        "* `pd.DataFrame.applymap(func)`\n",
        "  *   Applies the function to every element of the DataFrame.\n",
        "  *   `func` is the Python function to apply."
      ]
    },
    {
      "cell_type": "code",
      "metadata": {
        "id": "fAOTzlhkZthG"
      },
      "source": [
        "people = {\n",
        "    \"full_name\": [\"Jack Smith\", 'Jane Lodge', 'John Doe', 'Kristen Carol'],\n",
        "    \"email\": [\"JackSmith@gmail.com\", 'JaneLodge@email.com', 'JohnDoe@email.com', 'KristenC@email.com']\n",
        "}"
      ],
      "execution_count": null,
      "outputs": []
    },
    {
      "cell_type": "code",
      "metadata": {
        "id": "pZZMVc32lsJS"
      },
      "source": [
        "people_df = pd.DataFrame(people)\n",
        "people_df"
      ],
      "execution_count": null,
      "outputs": []
    },
    {
      "cell_type": "code",
      "metadata": {
        "id": "nwCRFGM-Ax01"
      },
      "source": [
        "people_df.applymap(len)"
      ],
      "execution_count": null,
      "outputs": []
    },
    {
      "cell_type": "code",
      "metadata": {
        "id": "MtVDkc-KBBG3"
      },
      "source": [
        "people_df.applymap(str.lower)"
      ],
      "execution_count": null,
      "outputs": []
    },
    {
      "cell_type": "markdown",
      "metadata": {
        "id": "VWG8dRPBqsHx"
      },
      "source": [
        "### pd.Series.map\n",
        "* `pd.Series.map(arg)`\n",
        "  *   It is used to map values of the Series according to input correspondence.\n",
        "  *   `arg` is used for substituting each value in a Series with another value. It may be a function, a dict or a Series.\n",
        "\n",
        "**Values in the Series that are NOT in the dictionary are converted to `NaN`.**"
      ]
    },
    {
      "cell_type": "code",
      "metadata": {
        "id": "XnaJAJ07CDn1"
      },
      "source": [
        "shopping_df"
      ],
      "execution_count": null,
      "outputs": []
    },
    {
      "cell_type": "code",
      "metadata": {
        "id": "AI0j6PhmCuT9"
      },
      "source": [
        "shopping_df['Product Name'].map({'Google Phone':'Google Pixel', 'iPhone':'iPhone 6'})"
      ],
      "execution_count": null,
      "outputs": []
    },
    {
      "cell_type": "markdown",
      "metadata": {
        "id": "S2gbNg_-qubo"
      },
      "source": [
        "### pd.Series.replace\n",
        "* `pd.Series.replace(to_replace=None, value=None, inplace=False)`\n",
        "  *   Applies the function on the values in the Series.\n",
        "  *   `to_replace` is/are the value(s) to replace. It may be a str, list, dict, Series, int etc.\n",
        "  *   The `value ` to replace any values matching `to_replace` with.\n"
      ]
    },
    {
      "cell_type": "code",
      "metadata": {
        "id": "FNYsKR0tqubp"
      },
      "source": [
        "shopping_df['Product Name'].replace({'Google Phone':'Google Pixel', 'iPhone':'iPhone 6'})"
      ],
      "execution_count": null,
      "outputs": []
    },
    {
      "cell_type": "markdown",
      "metadata": {
        "id": "ue2OekoRGi2F"
      },
      "source": [
        "**Replace can be used with dataframes too**\n"
      ]
    },
    {
      "cell_type": "code",
      "metadata": {
        "id": "R8gkPdePtL6H"
      },
      "source": [
        "shopping_df.replace(to_replace=[\"USB-C Charging Cable\", \"Lightning Charging Cable\"], value =\"Charging Cable\")"
      ],
      "execution_count": null,
      "outputs": []
    },
    {
      "cell_type": "markdown",
      "metadata": {
        "id": "J9TCAmvncqyK"
      },
      "source": [
        "# Add/Delete Columns"
      ]
    },
    {
      "cell_type": "markdown",
      "metadata": {
        "id": "JTzk54BOAyAQ"
      },
      "source": [
        "**We can create a new column by assigning a value as shown below**"
      ]
    },
    {
      "cell_type": "code",
      "metadata": {
        "id": "YejuVKJrmJCi"
      },
      "source": [
        "shopping_df['Store'] = pd.Series('Amazon')\n",
        "shopping_df"
      ],
      "execution_count": null,
      "outputs": []
    },
    {
      "cell_type": "code",
      "metadata": {
        "id": "oy0HhO8TA2bS"
      },
      "source": [
        "people_df['full_name'] = people_df['first'] + ' ' + people_df['last']\n",
        "people_df"
      ],
      "execution_count": null,
      "outputs": []
    },
    {
      "cell_type": "markdown",
      "metadata": {
        "id": "i7uVMAh6HEu9"
      },
      "source": [
        "### Splitting columns\n"
      ]
    },
    {
      "cell_type": "code",
      "metadata": {
        "id": "_Tjy1g5iI19U"
      },
      "source": [
        "people = {\n",
        "    \"full_name\": [\"Jack Smith\", 'Jane Lodge', 'John Doe', 'Kristen Carol'],\n",
        "    \"email\": [\"JackSmith@gmail.com\", 'JaneLodge@email.com', 'JohnDoe@email.com', 'KristenC@email.com']\n",
        "}"
      ],
      "execution_count": null,
      "outputs": []
    },
    {
      "cell_type": "code",
      "metadata": {
        "id": "kY5v2oWVI19V"
      },
      "source": [
        "people_df = pd.DataFrame(people)\n",
        "people_df"
      ],
      "execution_count": null,
      "outputs": []
    },
    {
      "cell_type": "code",
      "metadata": {
        "id": "4lPWlmS6JJRI"
      },
      "source": [
        "people_df['full_name'].str.split(' ')"
      ],
      "execution_count": null,
      "outputs": []
    },
    {
      "cell_type": "code",
      "metadata": {
        "id": "Pa0kug9LJMRZ"
      },
      "source": [
        "people_df['full_name'].str.split(' ', expand=True)"
      ],
      "execution_count": null,
      "outputs": []
    },
    {
      "cell_type": "code",
      "metadata": {
        "id": "CFenfhKPJT1G"
      },
      "source": [
        "people_df[['first', 'last']] = people_df['full_name'].str.split(' ', expand=True)\n",
        "people_df"
      ],
      "execution_count": null,
      "outputs": []
    },
    {
      "cell_type": "markdown",
      "metadata": {
        "id": "J4xwnFPqHLfd"
      },
      "source": [
        "### pd.concat\n",
        "* `pd.concat(objs, axis=0, ignore_index=False, keys=None)`\n",
        "  * Concatenates pandas objects along a particular axis\n",
        "  *   `objs` is a sequence or mapping of Series or DataFrame objects\n",
        "  *  The `axis` to concatenate along.\n",
        "  * If `ignore_index` is True, then it does not use the index values along the concatenation axis. The resulting axis will be labeled 0, …, n - 1.\n"
      ]
    },
    {
      "cell_type": "code",
      "metadata": {
        "id": "yINx6xHTWzTI"
      },
      "source": [
        "people_df"
      ],
      "execution_count": null,
      "outputs": []
    },
    {
      "cell_type": "code",
      "metadata": {
        "id": "YwemYY3lW5nG"
      },
      "source": [
        "age_and_hobbies = {\n",
        "    \"age\": [35, 17, 21, 45],\n",
        "    \"hobbies\": [\"painting\", 'football', 'running', 'fishing']\n",
        "}\n",
        "age_and_hobbies_df = pd.DataFrame(age_and_hobbies)"
      ],
      "execution_count": null,
      "outputs": []
    },
    {
      "cell_type": "code",
      "metadata": {
        "id": "0Xnow329HLfd"
      },
      "source": [
        "pd.concat([people_df, age_and_hobbies_df], axis=1)"
      ],
      "execution_count": null,
      "outputs": []
    },
    {
      "cell_type": "code",
      "metadata": {
        "id": "1Zkd10jtuYOA"
      },
      "source": [
        "pd.concat([people_df, age_and_hobbies_df], axis=1, ignore_index=True)"
      ],
      "execution_count": null,
      "outputs": []
    },
    {
      "cell_type": "code",
      "metadata": {
        "id": "7-ZxDuvzHLfe"
      },
      "source": [
        "name = np.array(['Alexis', 'Jonathan'])\n",
        "gender = np.array(['Female', 'Male'])\n",
        "name_series = pd.Series(name)\n",
        "gender_series = pd.Series(gender)"
      ],
      "execution_count": null,
      "outputs": []
    },
    {
      "cell_type": "code",
      "metadata": {
        "id": "teLaMHNYHDUY"
      },
      "source": [
        "user_df = pd.concat([name_series, gender_series], axis=1)\n",
        "user_df"
      ],
      "execution_count": null,
      "outputs": []
    },
    {
      "cell_type": "markdown",
      "metadata": {
        "id": "LlexvdASG_lD"
      },
      "source": [
        "**You can label the index keys you create with the names option.**"
      ]
    },
    {
      "cell_type": "code",
      "metadata": {
        "id": "E87VhV9yHE-F"
      },
      "source": [
        "user_df = pd.concat([name_series, gender_series], axis=1, keys=['name', 'gender'])\n",
        "user_df"
      ],
      "execution_count": null,
      "outputs": []
    },
    {
      "cell_type": "markdown",
      "metadata": {
        "id": "h7RKjsivHOyx"
      },
      "source": [
        "### pd.DataFrame.drop\n",
        "* `pd.DataFrame.drop(labels=None, axis=0, index=None, columns=None, inplace=False)`\n",
        "  * `labels` is the index or column labels to drop.\n",
        "  *  `axis` specifies the axis to drop the labels from.\n",
        "  * `index` is an alternative to specifying the axis (labels, axis=0 is equivalent to index=labels)\n",
        "  * `columns` is an alternative to specifying the axis (labels, axis=1 is equivalent to columns=labels).\n"
      ]
    },
    {
      "cell_type": "code",
      "metadata": {
        "id": "J7yYN20gLXG6"
      },
      "source": [
        "shopping_df.drop(columns=['Quantity Ordered', 'Purchase Address'])"
      ],
      "execution_count": null,
      "outputs": []
    },
    {
      "cell_type": "markdown",
      "metadata": {
        "id": "qZ6F4CDfzjCv"
      },
      "source": [
        "Axis 1 can be referred to as 'columns'"
      ]
    },
    {
      "cell_type": "code",
      "metadata": {
        "id": "DePn-tCYzyZ5"
      },
      "source": [
        "# Alternate way of deleting columns\n",
        "shopping_df.drop(labels='Order Date', axis='columns')"
      ],
      "execution_count": null,
      "outputs": []
    },
    {
      "cell_type": "markdown",
      "metadata": {
        "id": "F7AXitOrxcoj"
      },
      "source": [
        "# Try It Yourself\n",
        "\n",
        "\n",
        "\n"
      ]
    },
    {
      "cell_type": "markdown",
      "metadata": {
        "id": "Itj-2htKdtGC"
      },
      "source": [
        "For the following questions, use the **Stack Overflow** dataset.\n",
        "\n",
        "**Note:** `NaN` values in the dataset just mean that the user did not respond to that in the survey.\n",
        "\n",
        "0.   Load the dataset into a dataframe using `read_csv`.\n",
        "1.   Rename the `ConvertedComp` label to `Salary` and the `MainBranch` label to `Stream`.\n",
        "2.   Update the third row to have the same values for `Age` and `CompFreq` as the ninth row.\n",
        "3.   Replace  the country `Russian Federation` with `Russia` throughout the dataset.\n",
        "4.   Update the country of the first respondent to USA.\n",
        "5.   Convert the gender to uppercase for every row."
      ]
    },
    {
      "cell_type": "markdown",
      "metadata": {
        "id": "Rt5o6kGmdwEe"
      },
      "source": [
        "Incase you want to access the schema of the dataset:"
      ]
    },
    {
      "cell_type": "code",
      "metadata": {
        "id": "15d9V3V6eIbK"
      },
      "source": [
        "# Stackoverflow Schema Survey Dataset\n",
        "!wget https://nkb-backend-otg-media-static.s3.ap-south-1.amazonaws.com/otg_prod/media/Tech_4.0/AI_ML/Datasets/survey_results_schema.csv\n",
        "\n",
        "schema_survey_df = pd.read_csv('survey_results_schema.csv')"
      ],
      "execution_count": null,
      "outputs": []
    }
  ]
}