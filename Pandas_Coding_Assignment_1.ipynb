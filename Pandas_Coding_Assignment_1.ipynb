{
  "nbformat": 4,
  "nbformat_minor": 0,
  "metadata": {
    "colab": {
      "provenance": [],
      "collapsed_sections": [
        "81yF31X3mNY9"
      ],
      "include_colab_link": true
    },
    "kernelspec": {
      "name": "python3",
      "display_name": "Python 3"
    }
  },
  "cells": [
    {
      "cell_type": "markdown",
      "metadata": {
        "id": "view-in-github",
        "colab_type": "text"
      },
      "source": [
        "<a href=\"https://colab.research.google.com/github/Lokeshpatnana/Pandas/blob/main/Pandas_Coding_Assignment_1.ipynb\" target=\"_parent\"><img src=\"https://colab.research.google.com/assets/colab-badge.svg\" alt=\"Open In Colab\"/></a>"
      ]
    },
    {
      "cell_type": "code",
      "metadata": {
        "id": "HULmAWvWL_w-"
      },
      "source": [
        "import pandas as pd\n",
        "import numpy as np\n",
        "import matplotlib.pyplot as plt"
      ],
      "execution_count": 8,
      "outputs": []
    },
    {
      "cell_type": "markdown",
      "metadata": {
        "id": "yxyjxnhvxu6T"
      },
      "source": [
        "# Data Analysis Process\n",
        "\n",
        "Broadly, data analysis involves the following phases:\n",
        "1. Question Phase - Asking questions\n",
        "2. Wrangling Phase\n",
        "  - Data Acquisition - Acquiring the data required to answer the question by various means\n",
        "  - Data Cleaning - Cleaning the data so it can be used for further analysis\n",
        "3. Data Exploration Phase - Getting familiar with the data, building intuition and finding patterns.\n",
        "4. Drawing Conclusions Phase  - Arriving at conclusions based on the data or making some predictions. This phase usually involves statistics or Machine Learning.\n",
        "5. Communication Phase - Communicating your findings with the help of PPTs, blog posts etc. Data visualization can be very useful here.\n",
        "\n",
        "\n",
        "**This process is not always done in this order.**\n",
        "\n",
        "There can be a lot of going back and forth between the different phases. Especially the Wrangling Phase and Data Exploration Phase.\n",
        "  - To clean problems in the data, you first need to explore the data to see what problems are there.\n",
        "  - When you think you are done cleaning the data and you start exploring, you are likely to find more problems in the data, and you'll have to go back and clean the data.\n",
        "\n",
        "Also, throughout the process, as you become more familiar with the dataset, you may need to go back and refine the question you're asking."
      ]
    },
    {
      "cell_type": "markdown",
      "metadata": {
        "id": "E-jBt7D1nngK"
      },
      "source": [
        "# Analysis On the Shopping Dataset"
      ]
    },
    {
      "cell_type": "markdown",
      "metadata": {
        "id": "HVrVdUXn5QCt"
      },
      "source": [
        "\n",
        "Sometimes data acquistion may come before you pose a question. If a new dataset is released, you may acquire the data first and then think of some questions that can be answered with the data.\n",
        "\n",
        "In this assignment, you'll be answering some interesting questions on the shopping dataset."
      ]
    },
    {
      "cell_type": "code",
      "metadata": {
        "id": "RNXEhKt3tkiV",
        "colab": {
          "base_uri": "https://localhost:8080/"
        },
        "outputId": "71ea4e83-de7c-4b1c-858a-8fbc5996f404"
      },
      "source": [
        "!wget https://nkb-backend-otg-media-static.s3.ap-south-1.amazonaws.com/otg_prod/media/Tech_4.0/AI_ML/Datasets/sales_data.csv"
      ],
      "execution_count": 9,
      "outputs": [
        {
          "output_type": "stream",
          "name": "stdout",
          "text": [
            "--2023-11-14 04:49:30--  https://nkb-backend-otg-media-static.s3.ap-south-1.amazonaws.com/otg_prod/media/Tech_4.0/AI_ML/Datasets/sales_data.csv\n",
            "Resolving nkb-backend-otg-media-static.s3.ap-south-1.amazonaws.com (nkb-backend-otg-media-static.s3.ap-south-1.amazonaws.com)... 52.219.160.130, 52.219.158.186, 52.219.156.122, ...\n",
            "Connecting to nkb-backend-otg-media-static.s3.ap-south-1.amazonaws.com (nkb-backend-otg-media-static.s3.ap-south-1.amazonaws.com)|52.219.160.130|:443... connected.\n",
            "HTTP request sent, awaiting response... 200 OK\n",
            "Length: 32406147 (31M) [text/csv]\n",
            "Saving to: ‘sales_data.csv.1’\n",
            "\n",
            "sales_data.csv.1    100%[===================>]  30.90M  8.45MB/s    in 3.7s    \n",
            "\n",
            "2023-11-14 04:49:35 (8.45 MB/s) - ‘sales_data.csv.1’ saved [32406147/32406147]\n",
            "\n"
          ]
        }
      ]
    },
    {
      "cell_type": "code",
      "metadata": {
        "id": "MS6bNNRXnngK",
        "colab": {
          "base_uri": "https://localhost:8080/",
          "height": 423
        },
        "outputId": "5880dd78-da5a-4406-8e78-aabac0b38668"
      },
      "source": [
        "shopping_df = pd.read_csv(\"sales_data.csv\")\n",
        "shopping_df"
      ],
      "execution_count": 3,
      "outputs": [
        {
          "output_type": "execute_result",
          "data": {
            "text/plain": [
              "        Order ID                   Product  Quantity Ordered  Price Each  \\\n",
              "0       150502.0                    iPhone               1.0      700.00   \n",
              "1       150503.0     AA Batteries (4-pack)               1.0        3.84   \n",
              "2       150504.0    27in 4K Gaming Monitor               1.0      389.99   \n",
              "3       150505.0  Lightning Charging Cable               1.0       14.95   \n",
              "4       150506.0     AA Batteries (4-pack)               2.0        3.84   \n",
              "...          ...                       ...               ...         ...   \n",
              "372985  295660.0    AAA Batteries (4-pack)               2.0        2.99   \n",
              "372986  295661.0      USB-C Charging Cable               1.0       11.95   \n",
              "372987  295662.0  Lightning Charging Cable               1.0       14.95   \n",
              "372988  295663.0    AAA Batteries (4-pack)               1.0        2.99   \n",
              "372989  295664.0              Google Phone               1.0      600.00   \n",
              "\n",
              "            Order Date                     Purchase Address  \n",
              "0       02/18/19 01:35    866 Spruce St, Portland, ME 04101  \n",
              "1       02/13/19 07:24  18 13th St, San Francisco, CA 94016  \n",
              "2       02/18/19 09:46   52 6th St, New York City, NY 10001  \n",
              "3       02/02/19 16:47     129 Cherry St, Atlanta, GA 30301  \n",
              "4       02/28/19 20:32    548 Lincoln St, Seattle, WA 98101  \n",
              "...                ...                                  ...  \n",
              "372985  11/04/19 14:17    574 4th St, Los Angeles, CA 90001  \n",
              "372986  11/23/19 07:22         359 1st St, Austin, TX 73301  \n",
              "372987  11/13/19 16:12        900 10th St, Boston, MA 02215  \n",
              "372988  11/17/19 17:08      592 Sunset St, Boston, MA 02215  \n",
              "372989  11/17/19 16:13     428 Jackson St, Boston, MA 02215  \n",
              "\n",
              "[372990 rows x 6 columns]"
            ],
            "text/html": [
              "\n",
              "  <div id=\"df-4f6d72df-b61b-44cc-8459-dc6328f2a068\" class=\"colab-df-container\">\n",
              "    <div>\n",
              "<style scoped>\n",
              "    .dataframe tbody tr th:only-of-type {\n",
              "        vertical-align: middle;\n",
              "    }\n",
              "\n",
              "    .dataframe tbody tr th {\n",
              "        vertical-align: top;\n",
              "    }\n",
              "\n",
              "    .dataframe thead th {\n",
              "        text-align: right;\n",
              "    }\n",
              "</style>\n",
              "<table border=\"1\" class=\"dataframe\">\n",
              "  <thead>\n",
              "    <tr style=\"text-align: right;\">\n",
              "      <th></th>\n",
              "      <th>Order ID</th>\n",
              "      <th>Product</th>\n",
              "      <th>Quantity Ordered</th>\n",
              "      <th>Price Each</th>\n",
              "      <th>Order Date</th>\n",
              "      <th>Purchase Address</th>\n",
              "    </tr>\n",
              "  </thead>\n",
              "  <tbody>\n",
              "    <tr>\n",
              "      <th>0</th>\n",
              "      <td>150502.0</td>\n",
              "      <td>iPhone</td>\n",
              "      <td>1.0</td>\n",
              "      <td>700.00</td>\n",
              "      <td>02/18/19 01:35</td>\n",
              "      <td>866 Spruce St, Portland, ME 04101</td>\n",
              "    </tr>\n",
              "    <tr>\n",
              "      <th>1</th>\n",
              "      <td>150503.0</td>\n",
              "      <td>AA Batteries (4-pack)</td>\n",
              "      <td>1.0</td>\n",
              "      <td>3.84</td>\n",
              "      <td>02/13/19 07:24</td>\n",
              "      <td>18 13th St, San Francisco, CA 94016</td>\n",
              "    </tr>\n",
              "    <tr>\n",
              "      <th>2</th>\n",
              "      <td>150504.0</td>\n",
              "      <td>27in 4K Gaming Monitor</td>\n",
              "      <td>1.0</td>\n",
              "      <td>389.99</td>\n",
              "      <td>02/18/19 09:46</td>\n",
              "      <td>52 6th St, New York City, NY 10001</td>\n",
              "    </tr>\n",
              "    <tr>\n",
              "      <th>3</th>\n",
              "      <td>150505.0</td>\n",
              "      <td>Lightning Charging Cable</td>\n",
              "      <td>1.0</td>\n",
              "      <td>14.95</td>\n",
              "      <td>02/02/19 16:47</td>\n",
              "      <td>129 Cherry St, Atlanta, GA 30301</td>\n",
              "    </tr>\n",
              "    <tr>\n",
              "      <th>4</th>\n",
              "      <td>150506.0</td>\n",
              "      <td>AA Batteries (4-pack)</td>\n",
              "      <td>2.0</td>\n",
              "      <td>3.84</td>\n",
              "      <td>02/28/19 20:32</td>\n",
              "      <td>548 Lincoln St, Seattle, WA 98101</td>\n",
              "    </tr>\n",
              "    <tr>\n",
              "      <th>...</th>\n",
              "      <td>...</td>\n",
              "      <td>...</td>\n",
              "      <td>...</td>\n",
              "      <td>...</td>\n",
              "      <td>...</td>\n",
              "      <td>...</td>\n",
              "    </tr>\n",
              "    <tr>\n",
              "      <th>372985</th>\n",
              "      <td>295660.0</td>\n",
              "      <td>AAA Batteries (4-pack)</td>\n",
              "      <td>2.0</td>\n",
              "      <td>2.99</td>\n",
              "      <td>11/04/19 14:17</td>\n",
              "      <td>574 4th St, Los Angeles, CA 90001</td>\n",
              "    </tr>\n",
              "    <tr>\n",
              "      <th>372986</th>\n",
              "      <td>295661.0</td>\n",
              "      <td>USB-C Charging Cable</td>\n",
              "      <td>1.0</td>\n",
              "      <td>11.95</td>\n",
              "      <td>11/23/19 07:22</td>\n",
              "      <td>359 1st St, Austin, TX 73301</td>\n",
              "    </tr>\n",
              "    <tr>\n",
              "      <th>372987</th>\n",
              "      <td>295662.0</td>\n",
              "      <td>Lightning Charging Cable</td>\n",
              "      <td>1.0</td>\n",
              "      <td>14.95</td>\n",
              "      <td>11/13/19 16:12</td>\n",
              "      <td>900 10th St, Boston, MA 02215</td>\n",
              "    </tr>\n",
              "    <tr>\n",
              "      <th>372988</th>\n",
              "      <td>295663.0</td>\n",
              "      <td>AAA Batteries (4-pack)</td>\n",
              "      <td>1.0</td>\n",
              "      <td>2.99</td>\n",
              "      <td>11/17/19 17:08</td>\n",
              "      <td>592 Sunset St, Boston, MA 02215</td>\n",
              "    </tr>\n",
              "    <tr>\n",
              "      <th>372989</th>\n",
              "      <td>295664.0</td>\n",
              "      <td>Google Phone</td>\n",
              "      <td>1.0</td>\n",
              "      <td>600.00</td>\n",
              "      <td>11/17/19 16:13</td>\n",
              "      <td>428 Jackson St, Boston, MA 02215</td>\n",
              "    </tr>\n",
              "  </tbody>\n",
              "</table>\n",
              "<p>372990 rows × 6 columns</p>\n",
              "</div>\n",
              "    <div class=\"colab-df-buttons\">\n",
              "\n",
              "  <div class=\"colab-df-container\">\n",
              "    <button class=\"colab-df-convert\" onclick=\"convertToInteractive('df-4f6d72df-b61b-44cc-8459-dc6328f2a068')\"\n",
              "            title=\"Convert this dataframe to an interactive table.\"\n",
              "            style=\"display:none;\">\n",
              "\n",
              "  <svg xmlns=\"http://www.w3.org/2000/svg\" height=\"24px\" viewBox=\"0 -960 960 960\">\n",
              "    <path d=\"M120-120v-720h720v720H120Zm60-500h600v-160H180v160Zm220 220h160v-160H400v160Zm0 220h160v-160H400v160ZM180-400h160v-160H180v160Zm440 0h160v-160H620v160ZM180-180h160v-160H180v160Zm440 0h160v-160H620v160Z\"/>\n",
              "  </svg>\n",
              "    </button>\n",
              "\n",
              "  <style>\n",
              "    .colab-df-container {\n",
              "      display:flex;\n",
              "      gap: 12px;\n",
              "    }\n",
              "\n",
              "    .colab-df-convert {\n",
              "      background-color: #E8F0FE;\n",
              "      border: none;\n",
              "      border-radius: 50%;\n",
              "      cursor: pointer;\n",
              "      display: none;\n",
              "      fill: #1967D2;\n",
              "      height: 32px;\n",
              "      padding: 0 0 0 0;\n",
              "      width: 32px;\n",
              "    }\n",
              "\n",
              "    .colab-df-convert:hover {\n",
              "      background-color: #E2EBFA;\n",
              "      box-shadow: 0px 1px 2px rgba(60, 64, 67, 0.3), 0px 1px 3px 1px rgba(60, 64, 67, 0.15);\n",
              "      fill: #174EA6;\n",
              "    }\n",
              "\n",
              "    .colab-df-buttons div {\n",
              "      margin-bottom: 4px;\n",
              "    }\n",
              "\n",
              "    [theme=dark] .colab-df-convert {\n",
              "      background-color: #3B4455;\n",
              "      fill: #D2E3FC;\n",
              "    }\n",
              "\n",
              "    [theme=dark] .colab-df-convert:hover {\n",
              "      background-color: #434B5C;\n",
              "      box-shadow: 0px 1px 3px 1px rgba(0, 0, 0, 0.15);\n",
              "      filter: drop-shadow(0px 1px 2px rgba(0, 0, 0, 0.3));\n",
              "      fill: #FFFFFF;\n",
              "    }\n",
              "  </style>\n",
              "\n",
              "    <script>\n",
              "      const buttonEl =\n",
              "        document.querySelector('#df-4f6d72df-b61b-44cc-8459-dc6328f2a068 button.colab-df-convert');\n",
              "      buttonEl.style.display =\n",
              "        google.colab.kernel.accessAllowed ? 'block' : 'none';\n",
              "\n",
              "      async function convertToInteractive(key) {\n",
              "        const element = document.querySelector('#df-4f6d72df-b61b-44cc-8459-dc6328f2a068');\n",
              "        const dataTable =\n",
              "          await google.colab.kernel.invokeFunction('convertToInteractive',\n",
              "                                                    [key], {});\n",
              "        if (!dataTable) return;\n",
              "\n",
              "        const docLinkHtml = 'Like what you see? Visit the ' +\n",
              "          '<a target=\"_blank\" href=https://colab.research.google.com/notebooks/data_table.ipynb>data table notebook</a>'\n",
              "          + ' to learn more about interactive tables.';\n",
              "        element.innerHTML = '';\n",
              "        dataTable['output_type'] = 'display_data';\n",
              "        await google.colab.output.renderOutput(dataTable, element);\n",
              "        const docLink = document.createElement('div');\n",
              "        docLink.innerHTML = docLinkHtml;\n",
              "        element.appendChild(docLink);\n",
              "      }\n",
              "    </script>\n",
              "  </div>\n",
              "\n",
              "\n",
              "<div id=\"df-2e065455-082d-442b-8127-e8fbe438929a\">\n",
              "  <button class=\"colab-df-quickchart\" onclick=\"quickchart('df-2e065455-082d-442b-8127-e8fbe438929a')\"\n",
              "            title=\"Suggest charts\"\n",
              "            style=\"display:none;\">\n",
              "\n",
              "<svg xmlns=\"http://www.w3.org/2000/svg\" height=\"24px\"viewBox=\"0 0 24 24\"\n",
              "     width=\"24px\">\n",
              "    <g>\n",
              "        <path d=\"M19 3H5c-1.1 0-2 .9-2 2v14c0 1.1.9 2 2 2h14c1.1 0 2-.9 2-2V5c0-1.1-.9-2-2-2zM9 17H7v-7h2v7zm4 0h-2V7h2v10zm4 0h-2v-4h2v4z\"/>\n",
              "    </g>\n",
              "</svg>\n",
              "  </button>\n",
              "\n",
              "<style>\n",
              "  .colab-df-quickchart {\n",
              "      --bg-color: #E8F0FE;\n",
              "      --fill-color: #1967D2;\n",
              "      --hover-bg-color: #E2EBFA;\n",
              "      --hover-fill-color: #174EA6;\n",
              "      --disabled-fill-color: #AAA;\n",
              "      --disabled-bg-color: #DDD;\n",
              "  }\n",
              "\n",
              "  [theme=dark] .colab-df-quickchart {\n",
              "      --bg-color: #3B4455;\n",
              "      --fill-color: #D2E3FC;\n",
              "      --hover-bg-color: #434B5C;\n",
              "      --hover-fill-color: #FFFFFF;\n",
              "      --disabled-bg-color: #3B4455;\n",
              "      --disabled-fill-color: #666;\n",
              "  }\n",
              "\n",
              "  .colab-df-quickchart {\n",
              "    background-color: var(--bg-color);\n",
              "    border: none;\n",
              "    border-radius: 50%;\n",
              "    cursor: pointer;\n",
              "    display: none;\n",
              "    fill: var(--fill-color);\n",
              "    height: 32px;\n",
              "    padding: 0;\n",
              "    width: 32px;\n",
              "  }\n",
              "\n",
              "  .colab-df-quickchart:hover {\n",
              "    background-color: var(--hover-bg-color);\n",
              "    box-shadow: 0 1px 2px rgba(60, 64, 67, 0.3), 0 1px 3px 1px rgba(60, 64, 67, 0.15);\n",
              "    fill: var(--button-hover-fill-color);\n",
              "  }\n",
              "\n",
              "  .colab-df-quickchart-complete:disabled,\n",
              "  .colab-df-quickchart-complete:disabled:hover {\n",
              "    background-color: var(--disabled-bg-color);\n",
              "    fill: var(--disabled-fill-color);\n",
              "    box-shadow: none;\n",
              "  }\n",
              "\n",
              "  .colab-df-spinner {\n",
              "    border: 2px solid var(--fill-color);\n",
              "    border-color: transparent;\n",
              "    border-bottom-color: var(--fill-color);\n",
              "    animation:\n",
              "      spin 1s steps(1) infinite;\n",
              "  }\n",
              "\n",
              "  @keyframes spin {\n",
              "    0% {\n",
              "      border-color: transparent;\n",
              "      border-bottom-color: var(--fill-color);\n",
              "      border-left-color: var(--fill-color);\n",
              "    }\n",
              "    20% {\n",
              "      border-color: transparent;\n",
              "      border-left-color: var(--fill-color);\n",
              "      border-top-color: var(--fill-color);\n",
              "    }\n",
              "    30% {\n",
              "      border-color: transparent;\n",
              "      border-left-color: var(--fill-color);\n",
              "      border-top-color: var(--fill-color);\n",
              "      border-right-color: var(--fill-color);\n",
              "    }\n",
              "    40% {\n",
              "      border-color: transparent;\n",
              "      border-right-color: var(--fill-color);\n",
              "      border-top-color: var(--fill-color);\n",
              "    }\n",
              "    60% {\n",
              "      border-color: transparent;\n",
              "      border-right-color: var(--fill-color);\n",
              "    }\n",
              "    80% {\n",
              "      border-color: transparent;\n",
              "      border-right-color: var(--fill-color);\n",
              "      border-bottom-color: var(--fill-color);\n",
              "    }\n",
              "    90% {\n",
              "      border-color: transparent;\n",
              "      border-bottom-color: var(--fill-color);\n",
              "    }\n",
              "  }\n",
              "</style>\n",
              "\n",
              "  <script>\n",
              "    async function quickchart(key) {\n",
              "      const quickchartButtonEl =\n",
              "        document.querySelector('#' + key + ' button');\n",
              "      quickchartButtonEl.disabled = true;  // To prevent multiple clicks.\n",
              "      quickchartButtonEl.classList.add('colab-df-spinner');\n",
              "      try {\n",
              "        const charts = await google.colab.kernel.invokeFunction(\n",
              "            'suggestCharts', [key], {});\n",
              "      } catch (error) {\n",
              "        console.error('Error during call to suggestCharts:', error);\n",
              "      }\n",
              "      quickchartButtonEl.classList.remove('colab-df-spinner');\n",
              "      quickchartButtonEl.classList.add('colab-df-quickchart-complete');\n",
              "    }\n",
              "    (() => {\n",
              "      let quickchartButtonEl =\n",
              "        document.querySelector('#df-2e065455-082d-442b-8127-e8fbe438929a button');\n",
              "      quickchartButtonEl.style.display =\n",
              "        google.colab.kernel.accessAllowed ? 'block' : 'none';\n",
              "    })();\n",
              "  </script>\n",
              "</div>\n",
              "    </div>\n",
              "  </div>\n"
            ]
          },
          "metadata": {},
          "execution_count": 3
        }
      ]
    },
    {
      "cell_type": "markdown",
      "metadata": {
        "id": "81yF31X3mNY9"
      },
      "source": [
        "# Getting Started with Matplotlib"
      ]
    },
    {
      "cell_type": "markdown",
      "metadata": {
        "id": "gkkH6vrzlw_2"
      },
      "source": [
        "* **plt.bar():** Make a bar plot.\n",
        "* **plt.plot():** Can be used to make a line graph.\n",
        "\n",
        "_____________________________________________________________________________\n",
        "* **plt.xticks():** A list of positions at which ticks should be placed.\n",
        "* **plt.xlabel(label_name):** Set the label for the x-axis.\n",
        "* **plt.ylabel(label_name):** Set the label for the y-axis.\n",
        "\n",
        "* **plt.show():** Display a figure.\n",
        "* **plt.grid():** Configure the grid lines.\n",
        "\n",
        "______________________________________________________________________________\n",
        "\n",
        "* **plt.subplots():** Add a subplot to the current figure. It returns two arguments fig and ax where fig is figure and ax can be either a single Axes object or an array of Axes objects.\n",
        "* **ax.twinx():** Creates a twin Axes sharing the xaxis.\n",
        "* **ax.set_xlabel():** Set the label for the x-axis.\n",
        "* **ax.set_ylabel():** Set the label for the y-axis.\n",
        "* **ax.set_xticklabels():** Set the xaxis' labels with list of string labels.\n",
        "\n"
      ]
    },
    {
      "cell_type": "markdown",
      "metadata": {
        "id": "iqEanbtAUMZL"
      },
      "source": [
        "### ***Refer to the [matplotlib documentation](https://matplotlib.org/3.3.3/tutorials/index.html) for more details.***"
      ]
    },
    {
      "cell_type": "markdown",
      "metadata": {
        "id": "L36hRux9T0Y1"
      },
      "source": [
        "## **Example 1**"
      ]
    },
    {
      "cell_type": "markdown",
      "metadata": {
        "id": "OgdDV0fblw_2"
      },
      "source": [
        "\n",
        "5 students' marks are plotted on a bar graph."
      ]
    },
    {
      "cell_type": "code",
      "metadata": {
        "id": "fu8E_e3Ylw_2",
        "colab": {
          "base_uri": "https://localhost:8080/",
          "height": 449
        },
        "outputId": "34940396-0ce3-4503-fd58-63d21be80b10"
      },
      "source": [
        "import matplotlib.pyplot as plt\n",
        "marks_scored = [34, 98, 67, 89, 100]\n",
        "roll_no = range(1, 6)\n",
        "plt.bar(roll_no, marks_scored)\n",
        "plt.xticks(roll_no)\n",
        "plt.xlabel('roll no')\n",
        "plt.ylabel('Marks scored')\n",
        "plt.show()"
      ],
      "execution_count": 4,
      "outputs": [
        {
          "output_type": "display_data",
          "data": {
            "text/plain": [
              "<Figure size 640x480 with 1 Axes>"
            ],
            "image/png": "[encoded data removed]"
          },
          "metadata": {}
        }
      ]
    },
    {
      "cell_type": "markdown",
      "metadata": {
        "id": "I_BSEGVjUFNt"
      },
      "source": [
        "## **Example 2**"
      ]
    },
    {
      "cell_type": "markdown",
      "metadata": {
        "id": "xX5UkyBYPSqL"
      },
      "source": [
        "Plot y versus x as lines and/or markers."
      ]
    },
    {
      "cell_type": "code",
      "metadata": {
        "id": "O0gD03iXUJ1x",
        "colab": {
          "base_uri": "https://localhost:8080/",
          "height": 449
        },
        "outputId": "8128feaa-5f59-4831-94fa-0cb49caad3ee"
      },
      "source": [
        "classes = [1,2,3,4,5]\n",
        "performance = [4, 7, 9, 8, 10]\n",
        "\n",
        "plt.plot(classes, performance)\n",
        "plt.xticks(classes)\n",
        "plt.xlabel('classes')\n",
        "plt.ylabel('performance')\n",
        "plt.grid()\n",
        "plt.show()"
      ],
      "execution_count": 5,
      "outputs": [
        {
          "output_type": "display_data",
          "data": {
            "text/plain": [
              "<Figure size 640x480 with 1 Axes>"
            ],
            "image/png": "[encoded data removed]"
          },
          "metadata": {}
        }
      ]
    },
    {
      "cell_type": "markdown",
      "metadata": {
        "id": "EujW-708UFY3"
      },
      "source": [
        "## **Example 3**"
      ]
    },
    {
      "cell_type": "markdown",
      "metadata": {
        "id": "S1tQt6aMN-SZ"
      },
      "source": [
        "Create a set of subplots in a single graph"
      ]
    },
    {
      "cell_type": "code",
      "metadata": {
        "id": "qdtEsiq8ULcr",
        "colab": {
          "base_uri": "https://localhost:8080/",
          "height": 519
        },
        "outputId": "d14f55ee-4bbf-4f9c-c775-0458f2c495ed"
      },
      "source": [
        "prices = [50, 60, 33, 45, 72, 100]\n",
        "quantity = [2, 5, 10, 12, 20, 8]\n",
        "products = ['pens', 'pencils', 'book', 'box', 'map', 'globe']\n",
        "\n",
        "fig, ax1 = plt.subplots()\n",
        "ax2 = ax1.twinx()\n",
        "\n",
        "ax1.bar(products, quantity, color='g')\n",
        "ax2.plot(products, prices, 'b')\n",
        "\n",
        "ax1.set_xlabel('Product Name')\n",
        "ax1.set_ylabel('Quantity Ordered', color='g')\n",
        "ax2.set_ylabel('Price ($)', color='b')\n",
        "\n",
        "ax1.set_xticklabels(products, rotation='vertical')\n",
        "\n",
        "plt.show()"
      ],
      "execution_count": 6,
      "outputs": [
        {
          "output_type": "stream",
          "name": "stderr",
          "text": [
            "<ipython-input-6-35460ef1e3fe>:15: UserWarning: FixedFormatter should only be used together with FixedLocator\n",
            "  ax1.set_xticklabels(products, rotation='vertical')\n"
          ]
        },
        {
          "output_type": "display_data",
          "data": {
            "text/plain": [
              "<Figure size 640x480 with 2 Axes>"
            ],
            "image/png": "[encoded data removed]"
          },
          "metadata": {}
        }
      ]
    },
    {
      "cell_type": "markdown",
      "metadata": {
        "id": "x-sRtcNJlw_x"
      },
      "source": [
        "#**Question 1:**\n",
        "\n",
        "**What was the best month for sales? How much was earned that month?**"
      ]
    },
    {
      "cell_type": "markdown",
      "metadata": {
        "id": "eKJuIu9Llw_x"
      },
      "source": [
        " ## Cleaning the data:\n",
        "* Ensure that there are no rows that contain all NaN values in the data\n",
        "* Ensure that there are no duplicate rows\n",
        "* Ensure that the columns are of the appropriate data types\n",
        "* Add new columns if needed\n",
        "\n"
      ]
    },
    {
      "cell_type": "code",
      "metadata": {
        "id": "BZlC1HRWl50I"
      },
      "source": [
        "shopping_df.dropna(how='all',inplace=True) # Drop rows containing all NaN values\n",
        "shopping_df.drop_duplicates(inplace=True) # Drop duplicate rows\n",
        "\n",
        "shopping_df['Order Date'] = pd.to_datetime(shopping_df['Order Date']) # Convert to datetime\n",
        "shopping_df['Month'] = shopping_df['Order Date'].dt.month # Add month column\n",
        "\n",
        "shopping_df['Quantity Ordered'] = shopping_df['Quantity Ordered'].astype(dtype=int) # Convert to int\n",
        "shopping_df['Order ID'] = shopping_df['Order ID'].astype(dtype=int)\n",
        "shopping_df['Price Each'] = shopping_df['Price Each'].astype(dtype=float) # Convert to float"
      ],
      "execution_count": 10,
      "outputs": []
    },
    {
      "cell_type": "code",
      "source": [
        "shopping_df.dtypes"
      ],
      "metadata": {
        "colab": {
          "base_uri": "https://localhost:8080/"
        },
        "id": "Mpp1T_tlM10W",
        "outputId": "c8c4675f-1877-4f0e-c41e-45992b18c6fc"
      },
      "execution_count": 11,
      "outputs": [
        {
          "output_type": "execute_result",
          "data": {
            "text/plain": [
              "Order ID                     int64\n",
              "Product                     object\n",
              "Quantity Ordered             int64\n",
              "Price Each                 float64\n",
              "Order Date          datetime64[ns]\n",
              "Purchase Address            object\n",
              "Month                        int64\n",
              "dtype: object"
            ]
          },
          "metadata": {},
          "execution_count": 11
        }
      ]
    },
    {
      "cell_type": "markdown",
      "metadata": {
        "id": "dLpOt-o3lw_1"
      },
      "source": [
        "##Analysis:\n",
        "* Add a `Sales` column that contains the total cost of an order.\n",
        "* Find the month which has the highest sales and print the sales along with the name of the month.\n"
      ]
    },
    {
      "cell_type": "code",
      "metadata": {
        "id": "FWiNaWgemHXN",
        "colab": {
          "base_uri": "https://localhost:8080/"
        },
        "outputId": "1d93d5f1-1d02-48cb-a308-02af32e252b1"
      },
      "source": [
        "shopping_df['Sales'] = shopping_df['Quantity Ordered'] * shopping_df['Price Each']\n",
        "results = shopping_df.groupby('Month').sum()\n",
        "best_sales_data_index = results['Sales'].argmax()"
      ],
      "execution_count": 12,
      "outputs": [
        {
          "output_type": "stream",
          "name": "stderr",
          "text": [
            "<ipython-input-12-9fa95f755ed6>:2: FutureWarning: The default value of numeric_only in DataFrameGroupBy.sum is deprecated. In a future version, numeric_only will default to False. Either specify numeric_only or select only columns which should be valid for the function.\n",
            "  results = shopping_df.groupby('Month').sum()\n"
          ]
        }
      ]
    },
    {
      "cell_type": "code",
      "source": [
        "print('month:',best_sales_data_index + 1)\n",
        "print('sales:',results.Sales.iloc[best_sales_data_index])"
      ],
      "metadata": {
        "colab": {
          "base_uri": "https://localhost:8080/"
        },
        "id": "FLMBfD-0NnZg",
        "outputId": "01690a6d-2962-40b4-a2d6-7332f4ea2648"
      },
      "execution_count": 14,
      "outputs": [
        {
          "output_type": "stream",
          "name": "stdout",
          "text": [
            "month: 12\n",
            "sales: 4608295.7\n"
          ]
        }
      ]
    },
    {
      "cell_type": "markdown",
      "metadata": {
        "id": "p8auZR9Qlw_2"
      },
      "source": [
        " ## Plotting:\n",
        "* Plot a bar graph between months and sales to get a visual understanding of how sales have changed over the course of the year.\n",
        "\n",
        "**Note:** To plot the graph, you can use the matplotlib library. Refer to ***Getting Started with Matplotlib*** for further details."
      ]
    },
    {
      "cell_type": "code",
      "metadata": {
        "id": "PwA0cD1EmF2m",
        "colab": {
          "base_uri": "https://localhost:8080/",
          "height": 465
        },
        "outputId": "850d91f2-00d9-40af-97a1-ba746fbc3685"
      },
      "source": [
        "months = range(1,13)\n",
        "plt.bar(months,results['Sales'])\n",
        "plt.xticks(months)\n",
        "plt.xlabel('Month Number')\n",
        "plt.ylabel('Sales in USD ($)')\n",
        "plt.show()"
      ],
      "execution_count": 16,
      "outputs": [
        {
          "output_type": "display_data",
          "data": {
            "text/plain": [
              "<Figure size 640x480 with 1 Axes>"
            ],
            "image/png": "[encoded data removed]"
          },
          "metadata": {}
        }
      ]
    },
    {
      "cell_type": "markdown",
      "metadata": {
        "id": "_WcSRAhTuD2j"
      },
      "source": [
        "#**Question 2**:\n",
        "\n",
        "**Which city had the highest number of sales?**"
      ]
    },
    {
      "cell_type": "markdown",
      "metadata": {
        "id": "zxEbfQoc0HRy"
      },
      "source": [
        " ## Cleaning the data:\n",
        "* Add new columns if needed\n",
        "\n",
        "\n"
      ]
    },
    {
      "cell_type": "code",
      "metadata": {
        "id": "EuwlL0iB0SW8",
        "colab": {
          "base_uri": "https://localhost:8080/",
          "height": 310
        },
        "outputId": "c6698e70-a145-4a1c-cb2a-2dada23642d6"
      },
      "source": [
        "def get_city(address):\n",
        "  return address.split(',')[1].strip()\n",
        "def get_state(address):\n",
        "  return address.split(',')[2].split(' ')[1].strip()\n",
        "\n",
        "shopping_df['City'] = shopping_df['Purchase Address'].apply(lambda x: f\"{get_city(x)} ({get_state(x)})\")  # Added the state abbreviation, because two cities in different states may have the same name\n",
        "shopping_df.head()"
      ],
      "execution_count": 18,
      "outputs": [
        {
          "output_type": "execute_result",
          "data": {
            "text/plain": [
              "   Order ID                   Product  Quantity Ordered  Price Each  \\\n",
              "0    150502                    iPhone                 1      700.00   \n",
              "1    150503     AA Batteries (4-pack)                 1        3.84   \n",
              "2    150504    27in 4K Gaming Monitor                 1      389.99   \n",
              "3    150505  Lightning Charging Cable                 1       14.95   \n",
              "4    150506     AA Batteries (4-pack)                 2        3.84   \n",
              "\n",
              "           Order Date                     Purchase Address  Month   Sales  \\\n",
              "0 2019-02-18 01:35:00    866 Spruce St, Portland, ME 04101      2  700.00   \n",
              "1 2019-02-13 07:24:00  18 13th St, San Francisco, CA 94016      2    3.84   \n",
              "2 2019-02-18 09:46:00   52 6th St, New York City, NY 10001      2  389.99   \n",
              "3 2019-02-02 16:47:00     129 Cherry St, Atlanta, GA 30301      2   14.95   \n",
              "4 2019-02-28 20:32:00    548 Lincoln St, Seattle, WA 98101      2    7.68   \n",
              "\n",
              "                 City  \n",
              "0       Portland (ME)  \n",
              "1  San Francisco (CA)  \n",
              "2  New York City (NY)  \n",
              "3        Atlanta (GA)  \n",
              "4        Seattle (WA)  "
            ],
            "text/html": [
              "\n",
              "  <div id=\"df-5465a82b-d66f-4bb9-8e8d-507dcf2d4ece\" class=\"colab-df-container\">\n",
              "    <div>\n",
              "<style scoped>\n",
              "    .dataframe tbody tr th:only-of-type {\n",
              "        vertical-align: middle;\n",
              "    }\n",
              "\n",
              "    .dataframe tbody tr th {\n",
              "        vertical-align: top;\n",
              "    }\n",
              "\n",
              "    .dataframe thead th {\n",
              "        text-align: right;\n",
              "    }\n",
              "</style>\n",
              "<table border=\"1\" class=\"dataframe\">\n",
              "  <thead>\n",
              "    <tr style=\"text-align: right;\">\n",
              "      <th></th>\n",
              "      <th>Order ID</th>\n",
              "      <th>Product</th>\n",
              "      <th>Quantity Ordered</th>\n",
              "      <th>Price Each</th>\n",
              "      <th>Order Date</th>\n",
              "      <th>Purchase Address</th>\n",
              "      <th>Month</th>\n",
              "      <th>Sales</th>\n",
              "      <th>City</th>\n",
              "    </tr>\n",
              "  </thead>\n",
              "  <tbody>\n",
              "    <tr>\n",
              "      <th>0</th>\n",
              "      <td>150502</td>\n",
              "      <td>iPhone</td>\n",
              "      <td>1</td>\n",
              "      <td>700.00</td>\n",
              "      <td>2019-02-18 01:35:00</td>\n",
              "      <td>866 Spruce St, Portland, ME 04101</td>\n",
              "      <td>2</td>\n",
              "      <td>700.00</td>\n",
              "      <td>Portland (ME)</td>\n",
              "    </tr>\n",
              "    <tr>\n",
              "      <th>1</th>\n",
              "      <td>150503</td>\n",
              "      <td>AA Batteries (4-pack)</td>\n",
              "      <td>1</td>\n",
              "      <td>3.84</td>\n",
              "      <td>2019-02-13 07:24:00</td>\n",
              "      <td>18 13th St, San Francisco, CA 94016</td>\n",
              "      <td>2</td>\n",
              "      <td>3.84</td>\n",
              "      <td>San Francisco (CA)</td>\n",
              "    </tr>\n",
              "    <tr>\n",
              "      <th>2</th>\n",
              "      <td>150504</td>\n",
              "      <td>27in 4K Gaming Monitor</td>\n",
              "      <td>1</td>\n",
              "      <td>389.99</td>\n",
              "      <td>2019-02-18 09:46:00</td>\n",
              "      <td>52 6th St, New York City, NY 10001</td>\n",
              "      <td>2</td>\n",
              "      <td>389.99</td>\n",
              "      <td>New York City (NY)</td>\n",
              "    </tr>\n",
              "    <tr>\n",
              "      <th>3</th>\n",
              "      <td>150505</td>\n",
              "      <td>Lightning Charging Cable</td>\n",
              "      <td>1</td>\n",
              "      <td>14.95</td>\n",
              "      <td>2019-02-02 16:47:00</td>\n",
              "      <td>129 Cherry St, Atlanta, GA 30301</td>\n",
              "      <td>2</td>\n",
              "      <td>14.95</td>\n",
              "      <td>Atlanta (GA)</td>\n",
              "    </tr>\n",
              "    <tr>\n",
              "      <th>4</th>\n",
              "      <td>150506</td>\n",
              "      <td>AA Batteries (4-pack)</td>\n",
              "      <td>2</td>\n",
              "      <td>3.84</td>\n",
              "      <td>2019-02-28 20:32:00</td>\n",
              "      <td>548 Lincoln St, Seattle, WA 98101</td>\n",
              "      <td>2</td>\n",
              "      <td>7.68</td>\n",
              "      <td>Seattle (WA)</td>\n",
              "    </tr>\n",
              "  </tbody>\n",
              "</table>\n",
              "</div>\n",
              "    <div class=\"colab-df-buttons\">\n",
              "\n",
              "  <div class=\"colab-df-container\">\n",
              "    <button class=\"colab-df-convert\" onclick=\"convertToInteractive('df-5465a82b-d66f-4bb9-8e8d-507dcf2d4ece')\"\n",
              "            title=\"Convert this dataframe to an interactive table.\"\n",
              "            style=\"display:none;\">\n",
              "\n",
              "  <svg xmlns=\"http://www.w3.org/2000/svg\" height=\"24px\" viewBox=\"0 -960 960 960\">\n",
              "    <path d=\"M120-120v-720h720v720H120Zm60-500h600v-160H180v160Zm220 220h160v-160H400v160Zm0 220h160v-160H400v160ZM180-400h160v-160H180v160Zm440 0h160v-160H620v160ZM180-180h160v-160H180v160Zm440 0h160v-160H620v160Z\"/>\n",
              "  </svg>\n",
              "    </button>\n",
              "\n",
              "  <style>\n",
              "    .colab-df-container {\n",
              "      display:flex;\n",
              "      gap: 12px;\n",
              "    }\n",
              "\n",
              "    .colab-df-convert {\n",
              "      background-color: #E8F0FE;\n",
              "      border: none;\n",
              "      border-radius: 50%;\n",
              "      cursor: pointer;\n",
              "      display: none;\n",
              "      fill: #1967D2;\n",
              "      height: 32px;\n",
              "      padding: 0 0 0 0;\n",
              "      width: 32px;\n",
              "    }\n",
              "\n",
              "    .colab-df-convert:hover {\n",
              "      background-color: #E2EBFA;\n",
              "      box-shadow: 0px 1px 2px rgba(60, 64, 67, 0.3), 0px 1px 3px 1px rgba(60, 64, 67, 0.15);\n",
              "      fill: #174EA6;\n",
              "    }\n",
              "\n",
              "    .colab-df-buttons div {\n",
              "      margin-bottom: 4px;\n",
              "    }\n",
              "\n",
              "    [theme=dark] .colab-df-convert {\n",
              "      background-color: #3B4455;\n",
              "      fill: #D2E3FC;\n",
              "    }\n",
              "\n",
              "    [theme=dark] .colab-df-convert:hover {\n",
              "      background-color: #434B5C;\n",
              "      box-shadow: 0px 1px 3px 1px rgba(0, 0, 0, 0.15);\n",
              "      filter: drop-shadow(0px 1px 2px rgba(0, 0, 0, 0.3));\n",
              "      fill: #FFFFFF;\n",
              "    }\n",
              "  </style>\n",
              "\n",
              "    <script>\n",
              "      const buttonEl =\n",
              "        document.querySelector('#df-5465a82b-d66f-4bb9-8e8d-507dcf2d4ece button.colab-df-convert');\n",
              "      buttonEl.style.display =\n",
              "        google.colab.kernel.accessAllowed ? 'block' : 'none';\n",
              "\n",
              "      async function convertToInteractive(key) {\n",
              "        const element = document.querySelector('#df-5465a82b-d66f-4bb9-8e8d-507dcf2d4ece');\n",
              "        const dataTable =\n",
              "          await google.colab.kernel.invokeFunction('convertToInteractive',\n",
              "                                                    [key], {});\n",
              "        if (!dataTable) return;\n",
              "\n",
              "        const docLinkHtml = 'Like what you see? Visit the ' +\n",
              "          '<a target=\"_blank\" href=https://colab.research.google.com/notebooks/data_table.ipynb>data table notebook</a>'\n",
              "          + ' to learn more about interactive tables.';\n",
              "        element.innerHTML = '';\n",
              "        dataTable['output_type'] = 'display_data';\n",
              "        await google.colab.output.renderOutput(dataTable, element);\n",
              "        const docLink = document.createElement('div');\n",
              "        docLink.innerHTML = docLinkHtml;\n",
              "        element.appendChild(docLink);\n",
              "      }\n",
              "    </script>\n",
              "  </div>\n",
              "\n",
              "\n",
              "<div id=\"df-581aa090-c67a-4477-88d6-beb4ac8fbbe5\">\n",
              "  <button class=\"colab-df-quickchart\" onclick=\"quickchart('df-581aa090-c67a-4477-88d6-beb4ac8fbbe5')\"\n",
              "            title=\"Suggest charts\"\n",
              "            style=\"display:none;\">\n",
              "\n",
              "<svg xmlns=\"http://www.w3.org/2000/svg\" height=\"24px\"viewBox=\"0 0 24 24\"\n",
              "     width=\"24px\">\n",
              "    <g>\n",
              "        <path d=\"M19 3H5c-1.1 0-2 .9-2 2v14c0 1.1.9 2 2 2h14c1.1 0 2-.9 2-2V5c0-1.1-.9-2-2-2zM9 17H7v-7h2v7zm4 0h-2V7h2v10zm4 0h-2v-4h2v4z\"/>\n",
              "    </g>\n",
              "</svg>\n",
              "  </button>\n",
              "\n",
              "<style>\n",
              "  .colab-df-quickchart {\n",
              "      --bg-color: #E8F0FE;\n",
              "      --fill-color: #1967D2;\n",
              "      --hover-bg-color: #E2EBFA;\n",
              "      --hover-fill-color: #174EA6;\n",
              "      --disabled-fill-color: #AAA;\n",
              "      --disabled-bg-color: #DDD;\n",
              "  }\n",
              "\n",
              "  [theme=dark] .colab-df-quickchart {\n",
              "      --bg-color: #3B4455;\n",
              "      --fill-color: #D2E3FC;\n",
              "      --hover-bg-color: #434B5C;\n",
              "      --hover-fill-color: #FFFFFF;\n",
              "      --disabled-bg-color: #3B4455;\n",
              "      --disabled-fill-color: #666;\n",
              "  }\n",
              "\n",
              "  .colab-df-quickchart {\n",
              "    background-color: var(--bg-color);\n",
              "    border: none;\n",
              "    border-radius: 50%;\n",
              "    cursor: pointer;\n",
              "    display: none;\n",
              "    fill: var(--fill-color);\n",
              "    height: 32px;\n",
              "    padding: 0;\n",
              "    width: 32px;\n",
              "  }\n",
              "\n",
              "  .colab-df-quickchart:hover {\n",
              "    background-color: var(--hover-bg-color);\n",
              "    box-shadow: 0 1px 2px rgba(60, 64, 67, 0.3), 0 1px 3px 1px rgba(60, 64, 67, 0.15);\n",
              "    fill: var(--button-hover-fill-color);\n",
              "  }\n",
              "\n",
              "  .colab-df-quickchart-complete:disabled,\n",
              "  .colab-df-quickchart-complete:disabled:hover {\n",
              "    background-color: var(--disabled-bg-color);\n",
              "    fill: var(--disabled-fill-color);\n",
              "    box-shadow: none;\n",
              "  }\n",
              "\n",
              "  .colab-df-spinner {\n",
              "    border: 2px solid var(--fill-color);\n",
              "    border-color: transparent;\n",
              "    border-bottom-color: var(--fill-color);\n",
              "    animation:\n",
              "      spin 1s steps(1) infinite;\n",
              "  }\n",
              "\n",
              "  @keyframes spin {\n",
              "    0% {\n",
              "      border-color: transparent;\n",
              "      border-bottom-color: var(--fill-color);\n",
              "      border-left-color: var(--fill-color);\n",
              "    }\n",
              "    20% {\n",
              "      border-color: transparent;\n",
              "      border-left-color: var(--fill-color);\n",
              "      border-top-color: var(--fill-color);\n",
              "    }\n",
              "    30% {\n",
              "      border-color: transparent;\n",
              "      border-left-color: var(--fill-color);\n",
              "      border-top-color: var(--fill-color);\n",
              "      border-right-color: var(--fill-color);\n",
              "    }\n",
              "    40% {\n",
              "      border-color: transparent;\n",
              "      border-right-color: var(--fill-color);\n",
              "      border-top-color: var(--fill-color);\n",
              "    }\n",
              "    60% {\n",
              "      border-color: transparent;\n",
              "      border-right-color: var(--fill-color);\n",
              "    }\n",
              "    80% {\n",
              "      border-color: transparent;\n",
              "      border-right-color: var(--fill-color);\n",
              "      border-bottom-color: var(--fill-color);\n",
              "    }\n",
              "    90% {\n",
              "      border-color: transparent;\n",
              "      border-bottom-color: var(--fill-color);\n",
              "    }\n",
              "  }\n",
              "</style>\n",
              "\n",
              "  <script>\n",
              "    async function quickchart(key) {\n",
              "      const quickchartButtonEl =\n",
              "        document.querySelector('#' + key + ' button');\n",
              "      quickchartButtonEl.disabled = true;  // To prevent multiple clicks.\n",
              "      quickchartButtonEl.classList.add('colab-df-spinner');\n",
              "      try {\n",
              "        const charts = await google.colab.kernel.invokeFunction(\n",
              "            'suggestCharts', [key], {});\n",
              "      } catch (error) {\n",
              "        console.error('Error during call to suggestCharts:', error);\n",
              "      }\n",
              "      quickchartButtonEl.classList.remove('colab-df-spinner');\n",
              "      quickchartButtonEl.classList.add('colab-df-quickchart-complete');\n",
              "    }\n",
              "    (() => {\n",
              "      let quickchartButtonEl =\n",
              "        document.querySelector('#df-581aa090-c67a-4477-88d6-beb4ac8fbbe5 button');\n",
              "      quickchartButtonEl.style.display =\n",
              "        google.colab.kernel.accessAllowed ? 'block' : 'none';\n",
              "    })();\n",
              "  </script>\n",
              "</div>\n",
              "    </div>\n",
              "  </div>\n"
            ]
          },
          "metadata": {},
          "execution_count": 18
        }
      ]
    },
    {
      "cell_type": "markdown",
      "metadata": {
        "id": "Z9n-jZnV0fnN"
      },
      "source": [
        "##Analysis:\n",
        "* Find the total number of sales in each city.\n",
        "* Find the city which has the maximum number of sales.\n"
      ]
    },
    {
      "cell_type": "code",
      "metadata": {
        "id": "8K7tTQwg1Snr",
        "colab": {
          "base_uri": "https://localhost:8080/",
          "height": 449
        },
        "outputId": "719797e1-48b0-42ba-94f5-d16c921926a4"
      },
      "source": [
        "results = shopping_df.groupby('City').sum()\n",
        "results"
      ],
      "execution_count": 19,
      "outputs": [
        {
          "output_type": "stream",
          "name": "stderr",
          "text": [
            "<ipython-input-19-790d914c958f>:1: FutureWarning: The default value of numeric_only in DataFrameGroupBy.sum is deprecated. In a future version, numeric_only will default to False. Either specify numeric_only or select only columns which should be valid for the function.\n",
            "  results = shopping_df.groupby('City').sum()\n"
          ]
        },
        {
          "output_type": "execute_result",
          "data": {
            "text/plain": [
              "                       Order ID  Quantity Ordered  Price Each   Month  \\\n",
              "City                                                                    \n",
              "Atlanta (GA)         3419484721             16584  2778608.69  104649   \n",
              "Austin (TX)          2277506240             11137  1808340.03   69720   \n",
              "Boston (MA)          4590961337             22494  3634398.40  140898   \n",
              "Dallas (TX)          3410206282             16707  2750026.38  104447   \n",
              "Los Angeles (CA)     6801454376             33247  5417171.70  208020   \n",
              "New York City (NY)   5729940452             27903  4632920.54  175557   \n",
              "Portland (ME)         562382774              2746   446752.36   17119   \n",
              "Portland (OR)        2302544477             11291  1859836.44   70517   \n",
              "San Francisco (CA)  10287205330             50169  8204001.38  314949   \n",
              "Seattle (WA)         3402480817             16534  2730586.55  104817   \n",
              "\n",
              "                         Sales  \n",
              "City                            \n",
              "Atlanta (GA)        2794199.07  \n",
              "Austin (TX)         1818044.33  \n",
              "Boston (MA)         3658627.65  \n",
              "Dallas (TX)         2765373.96  \n",
              "Los Angeles (CA)    5448304.28  \n",
              "New York City (NY)  4661867.14  \n",
              "Portland (ME)        449321.38  \n",
              "Portland (OR)       1870010.56  \n",
              "San Francisco (CA)  8254743.55  \n",
              "Seattle (WA)        2745046.02  "
            ],
            "text/html": [
              "\n",
              "  <div id=\"df-cbb0c330-b75e-46c4-b5b3-7301b41fde41\" class=\"colab-df-container\">\n",
              "    <div>\n",
              "<style scoped>\n",
              "    .dataframe tbody tr th:only-of-type {\n",
              "        vertical-align: middle;\n",
              "    }\n",
              "\n",
              "    .dataframe tbody tr th {\n",
              "        vertical-align: top;\n",
              "    }\n",
              "\n",
              "    .dataframe thead th {\n",
              "        text-align: right;\n",
              "    }\n",
              "</style>\n",
              "<table border=\"1\" class=\"dataframe\">\n",
              "  <thead>\n",
              "    <tr style=\"text-align: right;\">\n",
              "      <th></th>\n",
              "      <th>Order ID</th>\n",
              "      <th>Quantity Ordered</th>\n",
              "      <th>Price Each</th>\n",
              "      <th>Month</th>\n",
              "      <th>Sales</th>\n",
              "    </tr>\n",
              "    <tr>\n",
              "      <th>City</th>\n",
              "      <th></th>\n",
              "      <th></th>\n",
              "      <th></th>\n",
              "      <th></th>\n",
              "      <th></th>\n",
              "    </tr>\n",
              "  </thead>\n",
              "  <tbody>\n",
              "    <tr>\n",
              "      <th>Atlanta (GA)</th>\n",
              "      <td>3419484721</td>\n",
              "      <td>16584</td>\n",
              "      <td>2778608.69</td>\n",
              "      <td>104649</td>\n",
              "      <td>2794199.07</td>\n",
              "    </tr>\n",
              "    <tr>\n",
              "      <th>Austin (TX)</th>\n",
              "      <td>2277506240</td>\n",
              "      <td>11137</td>\n",
              "      <td>1808340.03</td>\n",
              "      <td>69720</td>\n",
              "      <td>1818044.33</td>\n",
              "    </tr>\n",
              "    <tr>\n",
              "      <th>Boston (MA)</th>\n",
              "      <td>4590961337</td>\n",
              "      <td>22494</td>\n",
              "      <td>3634398.40</td>\n",
              "      <td>140898</td>\n",
              "      <td>3658627.65</td>\n",
              "    </tr>\n",
              "    <tr>\n",
              "      <th>Dallas (TX)</th>\n",
              "      <td>3410206282</td>\n",
              "      <td>16707</td>\n",
              "      <td>2750026.38</td>\n",
              "      <td>104447</td>\n",
              "      <td>2765373.96</td>\n",
              "    </tr>\n",
              "    <tr>\n",
              "      <th>Los Angeles (CA)</th>\n",
              "      <td>6801454376</td>\n",
              "      <td>33247</td>\n",
              "      <td>5417171.70</td>\n",
              "      <td>208020</td>\n",
              "      <td>5448304.28</td>\n",
              "    </tr>\n",
              "    <tr>\n",
              "      <th>New York City (NY)</th>\n",
              "      <td>5729940452</td>\n",
              "      <td>27903</td>\n",
              "      <td>4632920.54</td>\n",
              "      <td>175557</td>\n",
              "      <td>4661867.14</td>\n",
              "    </tr>\n",
              "    <tr>\n",
              "      <th>Portland (ME)</th>\n",
              "      <td>562382774</td>\n",
              "      <td>2746</td>\n",
              "      <td>446752.36</td>\n",
              "      <td>17119</td>\n",
              "      <td>449321.38</td>\n",
              "    </tr>\n",
              "    <tr>\n",
              "      <th>Portland (OR)</th>\n",
              "      <td>2302544477</td>\n",
              "      <td>11291</td>\n",
              "      <td>1859836.44</td>\n",
              "      <td>70517</td>\n",
              "      <td>1870010.56</td>\n",
              "    </tr>\n",
              "    <tr>\n",
              "      <th>San Francisco (CA)</th>\n",
              "      <td>10287205330</td>\n",
              "      <td>50169</td>\n",
              "      <td>8204001.38</td>\n",
              "      <td>314949</td>\n",
              "      <td>8254743.55</td>\n",
              "    </tr>\n",
              "    <tr>\n",
              "      <th>Seattle (WA)</th>\n",
              "      <td>3402480817</td>\n",
              "      <td>16534</td>\n",
              "      <td>2730586.55</td>\n",
              "      <td>104817</td>\n",
              "      <td>2745046.02</td>\n",
              "    </tr>\n",
              "  </tbody>\n",
              "</table>\n",
              "</div>\n",
              "    <div class=\"colab-df-buttons\">\n",
              "\n",
              "  <div class=\"colab-df-container\">\n",
              "    <button class=\"colab-df-convert\" onclick=\"convertToInteractive('df-cbb0c330-b75e-46c4-b5b3-7301b41fde41')\"\n",
              "            title=\"Convert this dataframe to an interactive table.\"\n",
              "            style=\"display:none;\">\n",
              "\n",
              "  <svg xmlns=\"http://www.w3.org/2000/svg\" height=\"24px\" viewBox=\"0 -960 960 960\">\n",
              "    <path d=\"M120-120v-720h720v720H120Zm60-500h600v-160H180v160Zm220 220h160v-160H400v160Zm0 220h160v-160H400v160ZM180-400h160v-160H180v160Zm440 0h160v-160H620v160ZM180-180h160v-160H180v160Zm440 0h160v-160H620v160Z\"/>\n",
              "  </svg>\n",
              "    </button>\n",
              "\n",
              "  <style>\n",
              "    .colab-df-container {\n",
              "      display:flex;\n",
              "      gap: 12px;\n",
              "    }\n",
              "\n",
              "    .colab-df-convert {\n",
              "      background-color: #E8F0FE;\n",
              "      border: none;\n",
              "      border-radius: 50%;\n",
              "      cursor: pointer;\n",
              "      display: none;\n",
              "      fill: #1967D2;\n",
              "      height: 32px;\n",
              "      padding: 0 0 0 0;\n",
              "      width: 32px;\n",
              "    }\n",
              "\n",
              "    .colab-df-convert:hover {\n",
              "      background-color: #E2EBFA;\n",
              "      box-shadow: 0px 1px 2px rgba(60, 64, 67, 0.3), 0px 1px 3px 1px rgba(60, 64, 67, 0.15);\n",
              "      fill: #174EA6;\n",
              "    }\n",
              "\n",
              "    .colab-df-buttons div {\n",
              "      margin-bottom: 4px;\n",
              "    }\n",
              "\n",
              "    [theme=dark] .colab-df-convert {\n",
              "      background-color: #3B4455;\n",
              "      fill: #D2E3FC;\n",
              "    }\n",
              "\n",
              "    [theme=dark] .colab-df-convert:hover {\n",
              "      background-color: #434B5C;\n",
              "      box-shadow: 0px 1px 3px 1px rgba(0, 0, 0, 0.15);\n",
              "      filter: drop-shadow(0px 1px 2px rgba(0, 0, 0, 0.3));\n",
              "      fill: #FFFFFF;\n",
              "    }\n",
              "  </style>\n",
              "\n",
              "    <script>\n",
              "      const buttonEl =\n",
              "        document.querySelector('#df-cbb0c330-b75e-46c4-b5b3-7301b41fde41 button.colab-df-convert');\n",
              "      buttonEl.style.display =\n",
              "        google.colab.kernel.accessAllowed ? 'block' : 'none';\n",
              "\n",
              "      async function convertToInteractive(key) {\n",
              "        const element = document.querySelector('#df-cbb0c330-b75e-46c4-b5b3-7301b41fde41');\n",
              "        const dataTable =\n",
              "          await google.colab.kernel.invokeFunction('convertToInteractive',\n",
              "                                                    [key], {});\n",
              "        if (!dataTable) return;\n",
              "\n",
              "        const docLinkHtml = 'Like what you see? Visit the ' +\n",
              "          '<a target=\"_blank\" href=https://colab.research.google.com/notebooks/data_table.ipynb>data table notebook</a>'\n",
              "          + ' to learn more about interactive tables.';\n",
              "        element.innerHTML = '';\n",
              "        dataTable['output_type'] = 'display_data';\n",
              "        await google.colab.output.renderOutput(dataTable, element);\n",
              "        const docLink = document.createElement('div');\n",
              "        docLink.innerHTML = docLinkHtml;\n",
              "        element.appendChild(docLink);\n",
              "      }\n",
              "    </script>\n",
              "  </div>\n",
              "\n",
              "\n",
              "<div id=\"df-f983e621-8495-48ae-a441-12c5e0653dc2\">\n",
              "  <button class=\"colab-df-quickchart\" onclick=\"quickchart('df-f983e621-8495-48ae-a441-12c5e0653dc2')\"\n",
              "            title=\"Suggest charts\"\n",
              "            style=\"display:none;\">\n",
              "\n",
              "<svg xmlns=\"http://www.w3.org/2000/svg\" height=\"24px\"viewBox=\"0 0 24 24\"\n",
              "     width=\"24px\">\n",
              "    <g>\n",
              "        <path d=\"M19 3H5c-1.1 0-2 .9-2 2v14c0 1.1.9 2 2 2h14c1.1 0 2-.9 2-2V5c0-1.1-.9-2-2-2zM9 17H7v-7h2v7zm4 0h-2V7h2v10zm4 0h-2v-4h2v4z\"/>\n",
              "    </g>\n",
              "</svg>\n",
              "  </button>\n",
              "\n",
              "<style>\n",
              "  .colab-df-quickchart {\n",
              "      --bg-color: #E8F0FE;\n",
              "      --fill-color: #1967D2;\n",
              "      --hover-bg-color: #E2EBFA;\n",
              "      --hover-fill-color: #174EA6;\n",
              "      --disabled-fill-color: #AAA;\n",
              "      --disabled-bg-color: #DDD;\n",
              "  }\n",
              "\n",
              "  [theme=dark] .colab-df-quickchart {\n",
              "      --bg-color: #3B4455;\n",
              "      --fill-color: #D2E3FC;\n",
              "      --hover-bg-color: #434B5C;\n",
              "      --hover-fill-color: #FFFFFF;\n",
              "      --disabled-bg-color: #3B4455;\n",
              "      --disabled-fill-color: #666;\n",
              "  }\n",
              "\n",
              "  .colab-df-quickchart {\n",
              "    background-color: var(--bg-color);\n",
              "    border: none;\n",
              "    border-radius: 50%;\n",
              "    cursor: pointer;\n",
              "    display: none;\n",
              "    fill: var(--fill-color);\n",
              "    height: 32px;\n",
              "    padding: 0;\n",
              "    width: 32px;\n",
              "  }\n",
              "\n",
              "  .colab-df-quickchart:hover {\n",
              "    background-color: var(--hover-bg-color);\n",
              "    box-shadow: 0 1px 2px rgba(60, 64, 67, 0.3), 0 1px 3px 1px rgba(60, 64, 67, 0.15);\n",
              "    fill: var(--button-hover-fill-color);\n",
              "  }\n",
              "\n",
              "  .colab-df-quickchart-complete:disabled,\n",
              "  .colab-df-quickchart-complete:disabled:hover {\n",
              "    background-color: var(--disabled-bg-color);\n",
              "    fill: var(--disabled-fill-color);\n",
              "    box-shadow: none;\n",
              "  }\n",
              "\n",
              "  .colab-df-spinner {\n",
              "    border: 2px solid var(--fill-color);\n",
              "    border-color: transparent;\n",
              "    border-bottom-color: var(--fill-color);\n",
              "    animation:\n",
              "      spin 1s steps(1) infinite;\n",
              "  }\n",
              "\n",
              "  @keyframes spin {\n",
              "    0% {\n",
              "      border-color: transparent;\n",
              "      border-bottom-color: var(--fill-color);\n",
              "      border-left-color: var(--fill-color);\n",
              "    }\n",
              "    20% {\n",
              "      border-color: transparent;\n",
              "      border-left-color: var(--fill-color);\n",
              "      border-top-color: var(--fill-color);\n",
              "    }\n",
              "    30% {\n",
              "      border-color: transparent;\n",
              "      border-left-color: var(--fill-color);\n",
              "      border-top-color: var(--fill-color);\n",
              "      border-right-color: var(--fill-color);\n",
              "    }\n",
              "    40% {\n",
              "      border-color: transparent;\n",
              "      border-right-color: var(--fill-color);\n",
              "      border-top-color: var(--fill-color);\n",
              "    }\n",
              "    60% {\n",
              "      border-color: transparent;\n",
              "      border-right-color: var(--fill-color);\n",
              "    }\n",
              "    80% {\n",
              "      border-color: transparent;\n",
              "      border-right-color: var(--fill-color);\n",
              "      border-bottom-color: var(--fill-color);\n",
              "    }\n",
              "    90% {\n",
              "      border-color: transparent;\n",
              "      border-bottom-color: var(--fill-color);\n",
              "    }\n",
              "  }\n",
              "</style>\n",
              "\n",
              "  <script>\n",
              "    async function quickchart(key) {\n",
              "      const quickchartButtonEl =\n",
              "        document.querySelector('#' + key + ' button');\n",
              "      quickchartButtonEl.disabled = true;  // To prevent multiple clicks.\n",
              "      quickchartButtonEl.classList.add('colab-df-spinner');\n",
              "      try {\n",
              "        const charts = await google.colab.kernel.invokeFunction(\n",
              "            'suggestCharts', [key], {});\n",
              "      } catch (error) {\n",
              "        console.error('Error during call to suggestCharts:', error);\n",
              "      }\n",
              "      quickchartButtonEl.classList.remove('colab-df-spinner');\n",
              "      quickchartButtonEl.classList.add('colab-df-quickchart-complete');\n",
              "    }\n",
              "    (() => {\n",
              "      let quickchartButtonEl =\n",
              "        document.querySelector('#df-f983e621-8495-48ae-a441-12c5e0653dc2 button');\n",
              "      quickchartButtonEl.style.display =\n",
              "        google.colab.kernel.accessAllowed ? 'block' : 'none';\n",
              "    })();\n",
              "  </script>\n",
              "</div>\n",
              "    </div>\n",
              "  </div>\n"
            ]
          },
          "metadata": {},
          "execution_count": 19
        }
      ]
    },
    {
      "cell_type": "code",
      "source": [
        "results['Sales'].idxmax()"
      ],
      "metadata": {
        "colab": {
          "base_uri": "https://localhost:8080/",
          "height": 35
        },
        "id": "kHFTlWOsQLRC",
        "outputId": "f55444a2-46d9-4dc2-b5f7-3508ce19a63e"
      },
      "execution_count": 21,
      "outputs": [
        {
          "output_type": "execute_result",
          "data": {
            "text/plain": [
              "'San Francisco (CA)'"
            ],
            "application/vnd.google.colaboratory.intrinsic+json": {
              "type": "string"
            }
          },
          "metadata": {},
          "execution_count": 21
        }
      ]
    },
    {
      "cell_type": "markdown",
      "metadata": {
        "id": "9zeqRptbWThi"
      },
      "source": [
        " ## Plotting:\n",
        "* Plot a bar graph between cities and sales to get a visual understanding of the sales in different cities.\n",
        "\n",
        "**Note:** To plot the graph, you can use the matplotlib library. Refer to the section **_Getting Started with Matplotlib_** for further details."
      ]
    },
    {
      "cell_type": "code",
      "metadata": {
        "id": "39qoYF-7wolH",
        "colab": {
          "base_uri": "https://localhost:8080/",
          "height": 580
        },
        "outputId": "e0f24ad4-9544-4438-89cd-38f5a05110e7"
      },
      "source": [
        "cities = results.index.values\n",
        "plt.bar(cities,results['Sales'])\n",
        "plt.xticks(cities,rotation='vertical')\n",
        "plt.xlabel('City Name')\n",
        "plt.ylabel('Sales in USD ($)')\n",
        "plt.show()"
      ],
      "execution_count": 23,
      "outputs": [
        {
          "output_type": "display_data",
          "data": {
            "text/plain": [
              "<Figure size 640x480 with 1 Axes>"
            ],
            "image/png": "[encoded data removed]"
          },
          "metadata": {}
        }
      ]
    }
  ]
}